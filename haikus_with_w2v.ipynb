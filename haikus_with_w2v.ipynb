{
 "cells": [
  {
   "cell_type": "markdown",
   "id": "9cfb0df2-6691-42f0-a537-06a1ffbfd9a7",
   "metadata": {},
   "source": [
    "# Model training"
   ]
  },
  {
   "cell_type": "markdown",
   "id": "1bc7d1ec-28ab-4353-9de5-9d0102b0d061",
   "metadata": {},
   "source": [
    "## Import packages"
   ]
  },
  {
   "cell_type": "code",
   "execution_count": null,
   "id": "203148e5-af60-4988-b678-bda538d6249b",
   "metadata": {},
   "outputs": [],
   "source": [
    "import tensorflow as tf\n",
    "import pandas as pd\n",
    "import os\n",
    "from tensorflow import keras\n",
    "from tensorflow.keras import layers\n",
    "import numpy as np\n",
    "import random\n",
    "import re\n",
    "import matplotlib.pyplot as plt\n",
    "from scipy import sparse\n",
    "from tqdm import tqdm\n",
    "import gensim\n",
    "\n",
    "# Deep learning: \n",
    "from keras.models import Input, Model\n",
    "from keras.layers import Dense"
   ]
  },
  {
   "cell_type": "markdown",
   "id": "d0d02a6e-d7e4-49bb-85a8-db2d70189bb6",
   "metadata": {},
   "source": [
    "## Read data"
   ]
  },
  {
   "cell_type": "code",
   "execution_count": null,
   "id": "0c39059e-77d5-42d6-bdce-766e49e9f5fa",
   "metadata": {},
   "outputs": [],
   "source": [
    "# Datensatz einlesen\n",
    "df = pd.read_csv('data/big_out.csv')"
   ]
  },
  {
   "cell_type": "markdown",
   "id": "7cbd8388-e4bc-4b0b-b6f2-c8ab37360f92",
   "metadata": {},
   "source": [
    "## Transform dataframe"
   ]
  },
  {
   "cell_type": "code",
   "execution_count": null,
   "id": "f19816b9-d18a-4c52-bda3-7aef12cb0867",
   "metadata": {
    "tags": []
   },
   "outputs": [],
   "source": [
    "# Dataframe mit 3 Spalten. Werden so gejoint, dass ein neues Dataframe mit ein Haiku pro Zeile erstellt wird\n",
    "df = df[['0', '1', '2']].agg(lambda x: ' \\n '.join(x.values), axis=1)\n",
    "# Dataframe to list [[]] -> []\n",
    "haikus = df.values.tolist()"
   ]
  },
  {
   "cell_type": "code",
   "execution_count": null,
   "id": "a2726013-e79e-4d25-b5da-a0fc4e2c45f1",
   "metadata": {},
   "outputs": [
    {
     "name": "stdout",
     "output_type": "stream",
     "text": [
      "['last red in the sky \\n a small girls moon face rises \\n over the counter', 'christmas services \\n a cellular phone rings out \\n handels messiah', 'passover darkness  \\n before the buds burst open \\n a childs eyes in death', 'last night of summer \\n the bright full moon of last night \\n hidden by a cloud', 'midnight and full moon \\n my neighbour asks to borrow \\n the vacum cleaner', 'yellow walnut leaves \\n slowly appear on the lawn \\n early morning light', 'after its first flight \\n the young gerfalcons talons \\n tighter on my glove', 'sultry afternoon \\n only the mailbox shadow \\n crosses the dirt road', 'long journey back home  \\n a forgotten bale of hay \\n slowly rots away', 'autumn mist obscures \\n the island in the distance \\n she cleans her glasses']\n",
      "number of haikus: 438234\n"
     ]
    }
   ],
   "source": [
    "# alle Haikus in Array\n",
    "print(haikus[:10])\n",
    "number_of_haikus = len(haikus)\n",
    "print('number of haikus: ' + str(number_of_haikus))"
   ]
  },
  {
   "cell_type": "code",
   "execution_count": null,
   "id": "94a0b771-a466-4239-95a2-db1b428b1c8f",
   "metadata": {},
   "outputs": [],
   "source": [
    "# die Haikus cleanen und selber auch noch mal als Wort-Arrays in großen Array\n",
    "haikus = np.array(haikus)\n",
    "\n",
    "def clean_and_split(sentence):\n",
    "    result = list(filter(''.__ne__, re.sub('[.,_]', '', sentence).split(' ')))\n",
    "    result.append(';')\n",
    "    return result\n",
    "\n",
    "haikus = list(map(lambda x: clean_and_split(x), haikus))"
   ]
  },
  {
   "cell_type": "code",
   "execution_count": null,
   "id": "bac24142-4e2f-43fd-aeea-6c8d3cf31769",
   "metadata": {},
   "outputs": [
    {
     "name": "stdout",
     "output_type": "stream",
     "text": [
      "[['last', 'red', 'in', 'the', 'sky', '\\n', 'a', 'small', 'girls', 'moon', 'face', 'rises', '\\n', 'over', 'the', 'counter', ';'], ['christmas', 'services', '\\n', 'a', 'cellular', 'phone', 'rings', 'out', '\\n', 'handels', 'messiah', ';'], ['passover', 'darkness', '\\n', 'before', 'the', 'buds', 'burst', 'open', '\\n', 'a', 'childs', 'eyes', 'in', 'death', ';'], ['last', 'night', 'of', 'summer', '\\n', 'the', 'bright', 'full', 'moon', 'of', 'last', 'night', '\\n', 'hidden', 'by', 'a', 'cloud', ';'], ['midnight', 'and', 'full', 'moon', '\\n', 'my', 'neighbour', 'asks', 'to', 'borrow', '\\n', 'the', 'vacum', 'cleaner', ';'], ['yellow', 'walnut', 'leaves', '\\n', 'slowly', 'appear', 'on', 'the', 'lawn', '\\n', 'early', 'morning', 'light', ';'], ['after', 'its', 'first', 'flight', '\\n', 'the', 'young', 'gerfalcons', 'talons', '\\n', 'tighter', 'on', 'my', 'glove', ';'], ['sultry', 'afternoon', '\\n', 'only', 'the', 'mailbox', 'shadow', '\\n', 'crosses', 'the', 'dirt', 'road', ';'], ['long', 'journey', 'back', 'home', '\\n', 'a', 'forgotten', 'bale', 'of', 'hay', '\\n', 'slowly', 'rots', 'away', ';'], ['autumn', 'mist', 'obscures', '\\n', 'the', 'island', 'in', 'the', 'distance', '\\n', 'she', 'cleans', 'her', 'glasses', ';']]\n"
     ]
    }
   ],
   "source": [
    "print(haikus[:10])"
   ]
  },
  {
   "cell_type": "markdown",
   "id": "beb02a0c-f7c6-4a67-b5c5-4fa75c5ab519",
   "metadata": {
    "jupyter": {
     "outputs_hidden": false
    },
    "pycharm": {
     "name": "#%%\n"
    }
   },
   "source": [
    "## The model"
   ]
  },
  {
   "cell_type": "code",
   "execution_count": null,
   "id": "2343e975-ba2e-4874-a953-1ec4242fd5ae",
   "metadata": {},
   "outputs": [],
   "source": [
    "# train model\n",
    "model = gensim.models.Word2Vec(haikus, min_count=1) # min count automatisch groesser, discarded alle woerter die weniger vorkommen"
   ]
  },
  {
   "cell_type": "code",
   "execution_count": null,
   "id": "1d491045-c758-4929-aaf2-4cf375433183",
   "metadata": {},
   "outputs": [
    {
     "name": "stdout",
     "output_type": "stream",
     "text": [
      "Word2Vec<vocab=45075, vector_size=100, alpha=0.025>\n"
     ]
    }
   ],
   "source": [
    "# summarize the loaded model\n",
    "print(model)"
   ]
  },
  {
   "cell_type": "code",
   "execution_count": null,
   "id": "fd1d78a9-21c3-4ce8-b2fa-3e8d6886af63",
   "metadata": {},
   "outputs": [
    {
     "name": "stdout",
     "output_type": "stream",
     "text": [
      "vector for 'girl':\n",
      "[ 0.31229058  0.6946153  -0.43084306 -0.0282332   2.0903203   0.10101435\n",
      " -3.202442   -3.315119   -0.16451664 -0.07796551 -0.3646245   1.6244198\n",
      " -1.4507171   0.13299742 -1.3371615  -0.01770525  1.1575513  -1.3556007\n",
      "  0.49317735 -1.2439383  -0.2931738   1.2420111   1.8485087   0.9806938\n",
      "  0.83782506 -1.5369533  -0.7325633   2.2399924   1.739332    1.4475107\n",
      "  1.8041458   0.01433887 -0.34128883  0.58657515 -0.227564    2.5924487\n",
      " -0.13076484  0.32296994 -1.9745549   0.6936519   1.1308823  -1.6093214\n",
      "  1.8798903  -0.7457563  -1.351318    0.3401661  -0.6295531  -1.3076602\n",
      " -0.6241337   0.02563074  2.3840942  -2.65126     0.07908862  0.21345182\n",
      " -2.3988001   0.68495125 -0.00364678 -1.380609    1.2683995   1.6524339\n",
      "  0.28577283 -0.35384795  1.2622461  -2.4703054   0.14531802 -0.3807358\n",
      " -0.7369605  -0.7078896   0.022359   -0.39785108  0.80460495  0.7874859\n",
      " -0.7940091  -0.7360059  -0.34914967 -1.2929767  -1.2863843   0.64583355\n",
      " -0.8362492   1.5712146   0.45155326  0.9425742   1.0739051   1.0034776\n",
      "  2.2554321   2.051857   -0.8497986   1.7191299  -0.18656407  0.91464657\n",
      "  0.28165096  1.2631232  -0.38326705 -0.7674698   0.92940974 -2.0852127\n",
      " -3.236762    2.012248    0.58056957 -2.0090573 ]\n"
     ]
    }
   ],
   "source": [
    "# access vector for one word\n",
    "print('vector for \\'girl\\':')\n",
    "print(model.wv['girl'])"
   ]
  },
  {
   "cell_type": "code",
   "execution_count": null,
   "id": "5fd3d026-5e46-405a-ae8e-ebab45ee2075",
   "metadata": {},
   "outputs": [
    {
     "name": "stdout",
     "output_type": "stream",
     "text": [
      "top 10 words most similar to 'girl':\n"
     ]
    },
    {
     "data": {
      "text/plain": [
       "[('woman', 0.8308090567588806),\n",
       " ('kid', 0.8020614385604858),\n",
       " ('guy', 0.7984545826911926),\n",
       " ('lady', 0.7733927369117737),\n",
       " ('chick', 0.722667396068573),\n",
       " ('girlfriend', 0.7165722250938416),\n",
       " ('person', 0.702984631061554),\n",
       " ('dog', 0.7027512192726135),\n",
       " ('boy', 0.6944789886474609),\n",
       " ('cat', 0.679090678691864)]"
      ]
     },
     "execution_count": 10,
     "metadata": {},
     "output_type": "execute_result"
    }
   ],
   "source": [
    "print('top 10 words most similar to \\'girl\\':')\n",
    "model.wv.most_similar('girl', topn=10)"
   ]
  },
  {
   "cell_type": "code",
   "execution_count": null,
   "id": "d8ef099b-640b-4e25-99a0-6468adce2efa",
   "metadata": {},
   "outputs": [
    {
     "name": "stdout",
     "output_type": "stream",
     "text": [
      "similarity between 'go' and 'walk' (regarding the haikus):\n",
      "0.7328923\n",
      "\n",
      "similarity between 'go' and 'laugh' (regarding the haikus):\n",
      "0.21766543\n",
      "\n",
      "similarity between 'go' and 'go':\n",
      "1.0\n"
     ]
    }
   ],
   "source": [
    "# similarity between two words\n",
    "print('similarity between \\'go\\' and \\'walk\\' (regarding the haikus):')\n",
    "print(model.wv.similarity(w1='go', w2='walk'))\n",
    "print()\n",
    "\n",
    "print('similarity between \\'go\\' and \\'laugh\\' (regarding the haikus):')\n",
    "print(model.wv.similarity(w1='go', w2='laugh'))\n",
    "print()\n",
    "\n",
    "print('similarity between \\'go\\' and \\'go\\':')\n",
    "print(model.wv.similarity(w1='go', w2='go'))"
   ]
  },
  {
   "cell_type": "code",
   "execution_count": null,
   "id": "ef287aca-158d-47aa-a2ea-97b801155496",
   "metadata": {},
   "outputs": [],
   "source": [
    "# save model\n",
    "#model.save('w2v_model.bin')"
   ]
  },
  {
   "cell_type": "code",
   "execution_count": null,
   "id": "108a5499-de48-4826-9fda-37a5cd5d8f57",
   "metadata": {},
   "outputs": [],
   "source": [
    "# load model\n",
    "#new_model = Word2Vec.load('w2v_model.bin')\n",
    "#print(new_model)"
   ]
  },
  {
   "cell_type": "code",
   "execution_count": null,
   "id": "bb90c737-8d1a-4706-b013-f2a84b5950b6",
   "metadata": {},
   "outputs": [
    {
     "name": "stdout",
     "output_type": "stream",
     "text": [
      "vectors:\n",
      "[[ 1.8460613  -0.59029365  0.00520649  0.01850292 -0.6254876  -2.408798\n",
      "  -1.3775347   0.27895278 -1.2913343  -0.02673046 -0.56462675  0.30756867\n",
      "   0.19352806 -0.30972335  0.78330106 -1.1697611  -0.52091134  1.0120761\n",
      "  -1.1409519  -1.0345565  -0.7452162   0.739466   -0.08062295 -1.6796914\n",
      "  -0.69315815 -0.5457272  -0.6219647  -0.39156497 -1.174594    0.56472206\n",
      "   1.1135521   0.6292329  -0.8439422  -0.07067981 -0.02860794 -1.4582332\n",
      "   0.9359705   1.265377   -1.7603954  -0.36900902  0.16194849  0.40116593\n",
      "   1.5610093  -0.16510755  0.26651558 -1.0860605   0.3353955  -0.6647575\n",
      "   1.5359938  -0.84802586  2.6239214  -0.9592528   0.4508637  -0.19657782\n",
      "  -0.76031494  0.3630984   0.21663533 -1.1813757  -0.50540286  1.5246313\n",
      "  -1.2286513  -0.8289276  -0.29078034 -0.9965098  -0.1317179  -0.24465352\n",
      "   0.5494164  -0.36317626 -1.151054    0.22485976  0.37415656 -0.18563044\n",
      "  -0.39827275 -0.06534689 -0.64337486 -1.616646   -0.46929845  1.5926719\n",
      "   0.02401546 -0.6839747   0.8495007  -1.1047441  -1.1137823  -0.48754507\n",
      "  -0.1794184  -0.32721913 -0.03519022 -1.0838544  -0.15791968  0.5310757\n",
      "  -0.34796917  2.2827344  -0.06451279 -1.129161   -0.82226884 -0.84208447\n",
      "   0.51770943  0.68407506  0.58887196 -2.5454383 ]\n",
      " [ 0.8310905  -0.368725   -0.9557902  -0.03639468  0.4749773  -0.33730772\n",
      "   0.2715911   0.60107416 -0.46600983  0.9635278   0.77913946  0.0151259\n",
      "  -0.6529529  -0.26986492  0.70551944 -0.20857857 -1.3872833  -0.34437254\n",
      "  -0.6195466   0.061227    0.87838626 -0.14841476  1.3284345  -1.6408484\n",
      "   0.23602656 -0.3048361  -0.43939123  0.28717443 -1.1934981   0.8358109\n",
      "  -0.10461018  0.6973173   0.24171907 -1.2309046   1.042233   -0.3652083\n",
      "  -0.8839556   0.5221794  -0.94014466  1.1984869  -0.03701241 -0.32041076\n",
      "  -0.5078362   1.5135896  -0.15134273 -0.42830294 -1.0081376  -0.44877645\n",
      "   0.78177404  0.12303429  0.24995887 -0.12753576  0.86820674  0.5341072\n",
      "  -0.70832235  0.6070882   1.7242262   0.07330807 -1.6618904   0.8085096\n",
      "  -1.8868517  -0.663166   -0.08683205  0.4658533   0.21768269 -0.44695976\n",
      "   0.6310056  -0.53075016 -0.43781644  1.2756139   0.8523009  -0.4804042\n",
      "  -0.17044455  0.9116578   0.35220996 -0.60163635 -0.36351734  0.6320219\n",
      "  -0.47957015  0.2937257   0.05933249 -0.11187019 -0.8963627  -0.2773444\n",
      "   0.48169187 -0.6357867  -0.4833065  -1.1089619  -0.15672623 -0.09205121\n",
      "   0.6673294   0.8584695   0.7245766  -0.3594677  -0.11752325  0.17433077\n",
      "  -0.02921313  0.9436062  -0.35466287 -1.2028203 ]]\n",
      "\n",
      "labels:\n",
      "['\\n' ';' 'the' 'i' 'to' 'you' 'a' 'and' 'it' 'is']\n"
     ]
    }
   ],
   "source": [
    "# extract the words & their vectors, as numpy arrays\n",
    "vectors = np.asarray(model.wv.vectors)\n",
    "labels = np.asarray(model.wv.index_to_key)  # fixed-width numpy strings\n",
    "\n",
    "print('vectors:')\n",
    "print(vectors[:2])\n",
    "print()\n",
    "print('labels:')\n",
    "print(labels[:10])"
   ]
  },
  {
   "cell_type": "code",
   "execution_count": null,
   "id": "aa22bfde-7705-43b1-a949-9610f087d26a",
   "metadata": {},
   "outputs": [
    {
     "data": {
      "text/plain": [
       "45075"
      ]
     },
     "execution_count": 15,
     "metadata": {},
     "output_type": "execute_result"
    }
   ],
   "source": [
    "len(vectors)"
   ]
  },
  {
   "cell_type": "code",
   "execution_count": null,
   "id": "fde1864f-9255-4257-b256-3393ca0d312d",
   "metadata": {},
   "outputs": [
    {
     "data": {
      "text/plain": [
       "45075"
      ]
     },
     "execution_count": 16,
     "metadata": {},
     "output_type": "execute_result"
    }
   ],
   "source": [
    "len(labels)"
   ]
  },
  {
   "cell_type": "code",
   "execution_count": null,
   "id": "bbf6e4f2-1ec2-4371-8158-7fb7879527d6",
   "metadata": {},
   "outputs": [],
   "source": [
    "# https://projector.tensorflow.org/"
   ]
  },
  {
   "cell_type": "code",
   "execution_count": null,
   "id": "a668015a-c472-4633-b2f2-2b134fa7c817",
   "metadata": {},
   "outputs": [],
   "source": [
    "# Save metadata (labels) into tsv file\n",
    "pd.DataFrame(labels).to_csv(\"model_dir/metadata.tsv\", sep = '\\t', index=False)"
   ]
  },
  {
   "cell_type": "code",
   "execution_count": null,
   "id": "c5e66453-e7ed-49b0-99c3-7cbb96887765",
   "metadata": {},
   "outputs": [],
   "source": [
    "# Save vectors into tsv file\n",
    "pd.DataFrame(vectors).to_csv(\"model_dir/vectors.tsv\", sep = '\\t', index=False)"
   ]
  },
  {
   "cell_type": "markdown",
   "id": "962ce0f1-52c7-4c0f-986e-3dc9b46dec9b",
   "metadata": {},
   "source": [
    "## Creating Model for HaikuGen"
   ]
  },
  {
   "cell_type": "code",
   "execution_count": null,
   "id": "b257feb1-587f-416d-8629-8794d3f8c05b",
   "metadata": {},
   "outputs": [],
   "source": [
    "# Maximale Anzahl der Wörter in einem Haiku aus Datenset\n",
    "max_haiku_len = len(max(haikus, key=len))"
   ]
  },
  {
   "cell_type": "code",
   "execution_count": null,
   "id": "5ca2faec-c14d-49e3-b4e8-a91829318694",
   "metadata": {},
   "outputs": [
    {
     "data": {
      "text/plain": [
       "['christmas',\n",
       " 'services',\n",
       " '\\n',\n",
       " 'a',\n",
       " 'cellular',\n",
       " 'phone',\n",
       " 'rings',\n",
       " 'out',\n",
       " '\\n',\n",
       " 'handels',\n",
       " 'messiah',\n",
       " ';']"
      ]
     },
     "execution_count": 21,
     "metadata": {},
     "output_type": "execute_result"
    }
   ],
   "source": [
    "haikus[1]"
   ]
  },
  {
   "cell_type": "code",
   "execution_count": null,
   "id": "24c29a53-dd37-4eab-b5c8-0786d1166a12",
   "metadata": {},
   "outputs": [
    {
     "data": {
      "text/plain": [
       "array([ 1.115937  ,  3.7550073 , -1.3472165 , -0.04846412,  2.9191742 ,\n",
       "       -0.5201832 , -3.9541988 ,  0.56951237,  0.32365316,  1.9051774 ,\n",
       "       -0.83292013,  3.0557196 , -1.263514  , -0.21320315,  1.3758903 ,\n",
       "       -0.9768148 ,  0.59615505,  1.7158791 , -1.2663797 ,  0.52242506,\n",
       "        1.6789254 ,  4.347519  ,  1.6123829 ,  1.4382718 , -0.4821828 ,\n",
       "       -0.5197544 ,  0.9906136 ,  0.9818026 , -2.7984228 ,  1.395255  ,\n",
       "        1.4432368 , -1.0875987 , -1.6443707 ,  0.92232853, -0.40474302,\n",
       "        0.0200003 , -0.3714413 ,  0.7583213 , -3.6758907 ,  1.0969849 ,\n",
       "       -0.46610647,  3.0717294 ,  1.1727097 ,  1.8695028 , -0.9054868 ,\n",
       "       -0.2845151 ,  1.6753987 ,  0.389066  , -0.72950745, -0.3828555 ,\n",
       "       -3.908614  , -0.91224897,  0.1990495 , -3.0756981 , -0.5532407 ,\n",
       "        0.32998967, -1.9459828 , -1.6822494 ,  0.97183484, -1.204235  ,\n",
       "        2.6566327 , -0.03324043,  1.5522405 ,  3.088333  ,  0.08327124,\n",
       "        0.8334451 , -0.9421077 ,  1.1408944 ,  0.09539839,  0.7111673 ,\n",
       "        2.6194901 ,  1.7436702 , -3.3908794 , -1.1970736 ,  0.47674412,\n",
       "       -0.68428904,  0.6502202 ,  2.6994019 , -0.30880076, -2.8135471 ,\n",
       "       -1.0706486 , -2.3606489 ,  0.08869866, -0.5125518 , -1.9787163 ,\n",
       "        2.131184  ,  1.0006238 ,  0.02650584,  0.9517461 , -1.7146177 ,\n",
       "       -1.9841611 , -0.38515687, -0.5124397 , -1.3988119 , -2.4831665 ,\n",
       "       -1.8553755 ,  1.3482834 , -2.326395  ,  0.05930405, -3.5599594 ],\n",
       "      dtype=float32)"
      ]
     },
     "execution_count": 22,
     "metadata": {},
     "output_type": "execute_result"
    }
   ],
   "source": [
    "model.wv[\"out\"]"
   ]
  },
  {
   "cell_type": "code",
   "execution_count": null,
   "id": "f4d81a12-52e9-460b-9de6-b13a56a8b1d4",
   "metadata": {},
   "outputs": [],
   "source": [
    "def word2idx(word):\n",
    "    return model.wv.key_to_index[word]\n",
    "def idx2word(idx):\n",
    "    return model.wv.index2word[idx]"
   ]
  },
  {
   "cell_type": "code",
   "execution_count": null,
   "id": "005209b8-d549-465b-9c84-be781600d359",
   "metadata": {},
   "outputs": [
    {
     "name": "stdout",
     "output_type": "stream",
     "text": [
      "\n",
      "Preparing the data for LSTM...\n",
      "train_x shape: (438234, 20)\n",
      "train_y shape: (438234,)\n"
     ]
    }
   ],
   "source": [
    "print('\\nPreparing the data for LSTM...')\n",
    "train_x = np.zeros([len(haikus), max_haiku_len], dtype=np.int32)\n",
    "train_y = np.zeros([len(haikus)], dtype=np.int32)\n",
    "for i, haiku in enumerate(haikus):\n",
    "    for t, word in enumerate(haiku[:-1]):\n",
    "        train_x[i, t] = word2idx(word)\n",
    "    train_y[i] = word2idx(haiku[-1])\n",
    "print('train_x shape:', train_x.shape)\n",
    "print('train_y shape:', train_y.shape)"
   ]
  },
  {
   "cell_type": "code",
   "execution_count": null,
   "id": "121ed410-c97d-47cf-849d-9464ccee1020",
   "metadata": {},
   "outputs": [],
   "source": []
  }
 ],
 "metadata": {
  "kernelspec": {
   "display_name": "",
   "name": ""
  },
  "language_info": {
   "name": ""
  }
 },
 "nbformat": 4,
 "nbformat_minor": 5
}
