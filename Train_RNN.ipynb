{
 "cells": [
  {
   "cell_type": "markdown",
   "id": "9cfb0df2-6691-42f0-a537-06a1ffbfd9a7",
   "metadata": {},
   "source": [
    "# Model training"
   ]
  },
  {
   "cell_type": "markdown",
   "id": "1bc7d1ec-28ab-4353-9de5-9d0102b0d061",
   "metadata": {},
   "source": [
    "## Import packages"
   ]
  },
  {
   "cell_type": "code",
   "execution_count": 5,
   "id": "203148e5-af60-4988-b678-bda538d6249b",
   "metadata": {},
   "outputs": [],
   "source": [
    "import tensorflow as tf\n",
    "import numpy as np\n",
    "import pandas as pd\n",
    "import time"
   ]
  },
  {
   "cell_type": "markdown",
   "id": "d0d02a6e-d7e4-49bb-85a8-db2d70189bb6",
   "metadata": {},
   "source": [
    "## Read data"
   ]
  },
  {
   "cell_type": "code",
   "execution_count": 25,
   "id": "d39c77b5-cfd3-45fa-8ba7-1652e5ccdfbf",
   "metadata": {},
   "outputs": [],
   "source": [
    "df = pd.read_csv('data/out.csv')\n",
    "## First move: 1 input \n",
    "df = df[['0', '1', '2']].agg(lambda x: ''.join(x.values), axis=1).T"
   ]
  },
  {
   "cell_type": "code",
   "execution_count": 26,
   "id": "f19816b9-d18a-4c52-bda3-7aef12cb0867",
   "metadata": {},
   "outputs": [
    {
     "data": {
      "text/plain": [
       "array(['last red in the skya small girls moon face risesover the counter',\n",
       "       'christmas servicesa cellular phone rings outhandels messiah',\n",
       "       'passover darkness before the buds burst opena childs eyes in death',\n",
       "       ...,\n",
       "       'aint no selfie onthis earth thats gonna make melike theresa may',\n",
       "       'is doing a greatjob turning independentsinto democrats',\n",
       "       'wanted to send aquick follow up on if theblood is loud talk soon'],\n",
       "      dtype=object)"
      ]
     },
     "execution_count": 26,
     "metadata": {},
     "output_type": "execute_result"
    }
   ],
   "source": [
    "array_of_poems = df.to_numpy()\n",
    "array_of_poems"
   ]
  },
  {
   "cell_type": "code",
   "execution_count": 32,
   "id": "3c8f1528-3578-45c6-aee5-83d9283cd081",
   "metadata": {},
   "outputs": [
    {
     "name": "stdout",
     "output_type": "stream",
     "text": [
      "last red in the skya small girls moon face risesover the counter\n",
      "christmas servicesa cellular phone rings outhandels messiah\n",
      "passover darkness before the buds burst opena childs eyes in death\n",
      "last night of summerthe bright full moon of last nighthidden by a cloud\n",
      "midnight and full moonmy neighbour asks to borrowthe vacum cleaner\n",
      "yellow walnut leavesslowly appear on the lawnearly morning light\n",
      "after its first flightthe young gerfalcons talonstighter on my glove\n",
      "sultry afternoononly the mailbox shadowcrosses the dirt road\n",
      "long journey back home a forgotten bale of hayslowly rots away\n",
      "autumn mist obscuresthe island in the distanceshe cleans her glasses\n"
     ]
    }
   ],
   "source": [
    "for i, sentence in enumerate(array_of_poems):\n",
    "    if i == 10:\n",
    "        break;\n",
    "    print(sentence)\n",
    "    "
   ]
  },
  {
   "cell_type": "code",
   "execution_count": null,
   "id": "b943f868-353f-4e23-acb9-835ceb13b021",
   "metadata": {},
   "outputs": [],
   "source": []
  },
  {
   "cell_type": "code",
   "execution_count": null,
   "id": "a511aae1-502b-48c3-9d66-03b84accc0bd",
   "metadata": {},
   "outputs": [],
   "source": []
  },
  {
   "cell_type": "code",
   "execution_count": null,
   "id": "b9793fad-7fbb-42bb-9f66-a55d1358c6c2",
   "metadata": {},
   "outputs": [],
   "source": []
  },
  {
   "cell_type": "code",
   "execution_count": null,
   "id": "8a014755-a035-40b4-9071-71adf838318f",
   "metadata": {},
   "outputs": [],
   "source": []
  },
  {
   "cell_type": "code",
   "execution_count": null,
   "id": "f94b6e93-567a-439d-908d-b1da4864271a",
   "metadata": {},
   "outputs": [],
   "source": []
  },
  {
   "cell_type": "code",
   "execution_count": null,
   "id": "05d688c4-b56f-46fc-a88c-862b2ef63d77",
   "metadata": {},
   "outputs": [],
   "source": []
  },
  {
   "cell_type": "code",
   "execution_count": null,
   "id": "eaa8c6b6-9a5b-4abd-b48b-a5de0aa8ef42",
   "metadata": {},
   "outputs": [],
   "source": []
  },
  {
   "cell_type": "code",
   "execution_count": null,
   "id": "aeeb9e49-92b3-47d9-8c1f-b8527fa21704",
   "metadata": {},
   "outputs": [],
   "source": []
  }
 ],
 "metadata": {
  "kernelspec": {
   "display_name": "Python 3 (ipykernel)",
   "language": "python",
   "name": "python3"
  },
  "language_info": {
   "codemirror_mode": {
    "name": "ipython",
    "version": 3
   },
   "file_extension": ".py",
   "mimetype": "text/x-python",
   "name": "python",
   "nbconvert_exporter": "python",
   "pygments_lexer": "ipython3",
   "version": "3.9.10"
  }
 },
 "nbformat": 4,
 "nbformat_minor": 5
}
