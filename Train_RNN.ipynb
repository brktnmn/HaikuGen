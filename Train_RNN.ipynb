{
 "cells": [
  {
   "cell_type": "markdown",
   "id": "9cfb0df2-6691-42f0-a537-06a1ffbfd9a7",
   "metadata": {},
   "source": [
    "# Model training"
   ]
  },
  {
   "cell_type": "markdown",
   "id": "1bc7d1ec-28ab-4353-9de5-9d0102b0d061",
   "metadata": {},
   "source": [
    "## Import packages"
   ]
  },
  {
   "cell_type": "code",
   "execution_count": 5,
   "id": "203148e5-af60-4988-b678-bda538d6249b",
   "metadata": {},
   "outputs": [],
   "source": [
    "import tensorflow as tf\n",
    "import numpy as np\n",
    "import pandas as pd\n",
    "import time"
   ]
  },
  {
   "cell_type": "markdown",
   "id": "d0d02a6e-d7e4-49bb-85a8-db2d70189bb6",
   "metadata": {},
   "source": [
    "## Read data"
   ]
  },
  {
   "cell_type": "code",
   "execution_count": 64,
   "id": "0c39059e-77d5-42d6-bdce-766e49e9f5fa",
   "metadata": {},
   "outputs": [],
   "source": [
    "df = pd.read_csv('data/out.csv')"
   ]
  },
  {
   "cell_type": "markdown",
   "id": "7cbd8388-e4bc-4b0b-b6f2-c8ab37360f92",
   "metadata": {},
   "source": [
    "## Transform df to get array of poems (1 input to start with)"
   ]
  },
  {
   "cell_type": "code",
   "execution_count": 65,
   "id": "f19816b9-d18a-4c52-bda3-7aef12cb0867",
   "metadata": {},
   "outputs": [
    {
     "data": {
      "text/plain": [
       "array(['last red in the sky\\na small girls moon face rises\\nover the counter',\n",
       "       'christmas services\\na cellular phone rings out\\nhandels messiah',\n",
       "       'passover darkness \\nbefore the buds burst open\\na childs eyes in death',\n",
       "       ...,\n",
       "       'aint no selfie on\\nthis earth thats gonna make me\\nlike theresa may',\n",
       "       'is doing a great\\njob turning independents\\ninto democrats',\n",
       "       'wanted to send a\\nquick follow up on if the\\nblood is loud talk soon'],\n",
       "      dtype=object)"
      ]
     },
     "execution_count": 65,
     "metadata": {},
     "output_type": "execute_result"
    }
   ],
   "source": [
    "df = df[['0', '1', '2']].agg(lambda x: '\\n'.join(x.values), axis=1)\n",
    "array_of_poems = df.to_numpy()\n",
    "array_of_poems"
   ]
  },
  {
   "cell_type": "markdown",
   "id": "4ef77b0b-c3eb-45bc-b27e-e70603e47602",
   "metadata": {
    "jp-MarkdownHeadingCollapsed": true,
    "tags": []
   },
   "source": [
    "### Show array"
   ]
  },
  {
   "cell_type": "code",
   "execution_count": 67,
   "id": "3c8f1528-3578-45c6-aee5-83d9283cd081",
   "metadata": {},
   "outputs": [
    {
     "name": "stdout",
     "output_type": "stream",
     "text": [
      "last red in the sky\n",
      "a small girls moon face rises\n",
      "over the counter\n",
      "\n",
      "\n",
      "christmas services\n",
      "a cellular phone rings out\n",
      "handels messiah\n",
      "\n",
      "\n",
      "passover darkness \n",
      "before the buds burst open\n",
      "a childs eyes in death\n",
      "\n",
      "\n"
     ]
    }
   ],
   "source": [
    "for i, sentence in enumerate(array_of_poems):\n",
    "    if i == 3:\n",
    "        break;\n",
    "    print(sentence)\n",
    "    print('\\n')"
   ]
  },
  {
   "cell_type": "markdown",
   "id": "261a55c3-9341-464d-a6cb-629710f97792",
   "metadata": {},
   "source": [
    "## Extend poems to match longest poem to get unified lenght"
   ]
  },
  {
   "cell_type": "code",
   "execution_count": 75,
   "id": "b943f868-353f-4e23-acb9-835ceb13b021",
   "metadata": {},
   "outputs": [],
   "source": [
    "maxlen = len(max(array_of_poems, key = len))\n",
    "\n",
    "for i in range(len(array_of_poems)):\n",
    "    array_of_poems[i] = array_of_poems[i].ljust(maxlen) "
   ]
  },
  {
   "cell_type": "markdown",
   "id": "d0834b0c-61b3-4c4b-8214-96f2e4681539",
   "metadata": {
    "jp-MarkdownHeadingCollapsed": true,
    "tags": []
   },
   "source": [
    "### Show array"
   ]
  },
  {
   "cell_type": "code",
   "execution_count": 74,
   "id": "e3ddcbdd-9e83-4844-aa4b-7372df484c01",
   "metadata": {},
   "outputs": [
    {
     "name": "stdout",
     "output_type": "stream",
     "text": [
      "93\n",
      "\n",
      "\n",
      "93\n",
      "\n",
      "\n",
      "93\n",
      "\n",
      "\n"
     ]
    }
   ],
   "source": [
    "for i, sentence in enumerate(array_of_poems):\n",
    "    if i == 3:\n",
    "        break;\n",
    "    print(len(sentence))\n",
    "    print('\\n')"
   ]
  },
  {
   "cell_type": "markdown",
   "id": "c34535e9-892b-41b4-b2cb-a89c60fdfcfb",
   "metadata": {},
   "source": [
    "## Get unique chars in corpus"
   ]
  },
  {
   "cell_type": "code",
   "execution_count": 80,
   "id": "05d688c4-b56f-46fc-a88c-862b2ef63d77",
   "metadata": {},
   "outputs": [
    {
     "name": "stdout",
     "output_type": "stream",
     "text": [
      "33 unique chars\n"
     ]
    }
   ],
   "source": [
    "# The unique characters in the file\n",
    "vocab = sorted(set(''.join(array_of_poems)))\n",
    "print(f'{len(vocab)} unique chars')\n",
    "print(vocab)"
   ]
  },
  {
   "cell_type": "code",
   "execution_count": 82,
   "id": "eaa8c6b6-9a5b-4abd-b48b-a5de0aa8ef42",
   "metadata": {},
   "outputs": [
    {
     "data": {
      "text/plain": [
       "['\\n',\n",
       " ' ',\n",
       " '0',\n",
       " '1',\n",
       " '3',\n",
       " '9',\n",
       " '_',\n",
       " 'a',\n",
       " 'b',\n",
       " 'c',\n",
       " 'd',\n",
       " 'e',\n",
       " 'f',\n",
       " 'g',\n",
       " 'h',\n",
       " 'i',\n",
       " 'j',\n",
       " 'k',\n",
       " 'l',\n",
       " 'm',\n",
       " 'n',\n",
       " 'o',\n",
       " 'p',\n",
       " 'q',\n",
       " 'r',\n",
       " 's',\n",
       " 't',\n",
       " 'u',\n",
       " 'v',\n",
       " 'w',\n",
       " 'x',\n",
       " 'y',\n",
       " 'z']"
      ]
     },
     "execution_count": 82,
     "metadata": {},
     "output_type": "execute_result"
    }
   ],
   "source": []
  },
  {
   "cell_type": "code",
   "execution_count": null,
   "id": "aeeb9e49-92b3-47d9-8c1f-b8527fa21704",
   "metadata": {},
   "outputs": [],
   "source": []
  },
  {
   "cell_type": "code",
   "execution_count": null,
   "id": "a0d4dea8-7eb2-49e4-af72-c06b3c0082fd",
   "metadata": {},
   "outputs": [],
   "source": []
  },
  {
   "cell_type": "code",
   "execution_count": null,
   "id": "a511aae1-502b-48c3-9d66-03b84accc0bd",
   "metadata": {},
   "outputs": [],
   "source": []
  },
  {
   "cell_type": "code",
   "execution_count": null,
   "id": "f94b6e93-567a-439d-908d-b1da4864271a",
   "metadata": {},
   "outputs": [],
   "source": []
  }
 ],
 "metadata": {
  "kernelspec": {
   "display_name": "Python 3 (ipykernel)",
   "language": "python",
   "name": "python3"
  },
  "language_info": {
   "codemirror_mode": {
    "name": "ipython",
    "version": 3
   },
   "file_extension": ".py",
   "mimetype": "text/x-python",
   "name": "python",
   "nbconvert_exporter": "python",
   "pygments_lexer": "ipython3",
   "version": "3.9.10"
  }
 },
 "nbformat": 4,
 "nbformat_minor": 5
}
