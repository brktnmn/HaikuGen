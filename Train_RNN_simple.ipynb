{
 "cells": [
  {
   "cell_type": "markdown",
   "id": "9cfb0df2-6691-42f0-a537-06a1ffbfd9a7",
   "metadata": {},
   "source": [
    "# Model training"
   ]
  },
  {
   "cell_type": "markdown",
   "id": "1bc7d1ec-28ab-4353-9de5-9d0102b0d061",
   "metadata": {},
   "source": [
    "## Import packages"
   ]
  },
  {
   "cell_type": "code",
   "execution_count": 6,
   "id": "203148e5-af60-4988-b678-bda538d6249b",
   "metadata": {},
   "outputs": [],
   "source": [
    "import tensorflow as tf\n",
    "import pandas as pd\n",
    "import os\n",
    "from tensorflow import keras\n",
    "from tensorflow.keras import layers\n",
    "import numpy as np\n",
    "import random\n",
    "import re\n",
    "import matplotlib.pyplot as plt\n",
    "\n"
   ]
  },
  {
   "cell_type": "code",
   "execution_count": 2,
   "id": "e4acdb5f-346c-45c3-afcb-b8af2ec10aab",
   "metadata": {},
   "outputs": [
    {
     "name": "stdout",
     "output_type": "stream",
     "text": [
      "Num GPUs Available:  1\n"
     ]
    },
    {
     "name": "stderr",
     "output_type": "stream",
     "text": [
      "2022-05-01 16:17:50.763339: I tensorflow/stream_executor/cuda/cuda_gpu_executor.cc:936] successful NUMA node read from SysFS had negative value (-1), but there must be at least one NUMA node, so returning NUMA node zero\n",
      "2022-05-01 16:17:50.815743: I tensorflow/stream_executor/cuda/cuda_gpu_executor.cc:936] successful NUMA node read from SysFS had negative value (-1), but there must be at least one NUMA node, so returning NUMA node zero\n",
      "2022-05-01 16:17:50.816366: I tensorflow/stream_executor/cuda/cuda_gpu_executor.cc:936] successful NUMA node read from SysFS had negative value (-1), but there must be at least one NUMA node, so returning NUMA node zero\n"
     ]
    }
   ],
   "source": [
    "print(\"Num GPUs Available: \", len(tf.config.experimental.list_physical_devices('GPU')))"
   ]
  },
  {
   "cell_type": "markdown",
   "id": "d0d02a6e-d7e4-49bb-85a8-db2d70189bb6",
   "metadata": {},
   "source": [
    "## Read data"
   ]
  },
  {
   "cell_type": "code",
   "execution_count": 7,
   "id": "0c39059e-77d5-42d6-bdce-766e49e9f5fa",
   "metadata": {},
   "outputs": [],
   "source": [
    "df = pd.read_csv('data/out.csv')"
   ]
  },
  {
   "cell_type": "markdown",
   "id": "7cbd8388-e4bc-4b0b-b6f2-c8ab37360f92",
   "metadata": {},
   "source": [
    "## Transform df to get array of poems (1 input to start with)"
   ]
  },
  {
   "cell_type": "code",
   "execution_count": 8,
   "id": "f19816b9-d18a-4c52-bda3-7aef12cb0867",
   "metadata": {
    "tags": []
   },
   "outputs": [
    {
     "data": {
      "text/plain": [
       "'last red in the sky,a small girls moon face rises,over the counter'"
      ]
     },
     "execution_count": 8,
     "metadata": {},
     "output_type": "execute_result"
    }
   ],
   "source": [
    "df = df[['0', '1', '2']].agg(lambda x: ','.join(x.values), axis=1)\n",
    "array_of_poems = df.values.tolist()\n",
    "array_of_poems[0]"
   ]
  },
  {
   "cell_type": "markdown",
   "id": "4ef77b0b-c3eb-45bc-b27e-e70603e47602",
   "metadata": {
    "tags": []
   },
   "source": [
    "### Show array"
   ]
  },
  {
   "cell_type": "code",
   "execution_count": 9,
   "id": "3c8f1528-3578-45c6-aee5-83d9283cd081",
   "metadata": {},
   "outputs": [
    {
     "name": "stdout",
     "output_type": "stream",
     "text": [
      "last red in the sky,a small girls moon face rises,over the counter\n",
      "\n",
      "\n",
      "christmas services,a cellular phone rings out,handels messiah\n",
      "\n",
      "\n",
      "passover darkness ,before the buds burst open,a childs eyes in death\n",
      "\n",
      "\n"
     ]
    }
   ],
   "source": [
    "for i, sentence in enumerate(array_of_poems):\n",
    "    if i == 3:\n",
    "        break;\n",
    "    print(sentence)\n",
    "    print('\\n')"
   ]
  },
  {
   "cell_type": "markdown",
   "id": "261a55c3-9341-464d-a6cb-629710f97792",
   "metadata": {},
   "source": [
    "## Extend poems to match longest poem to get unified length"
   ]
  },
  {
   "cell_type": "code",
   "execution_count": 10,
   "id": "b943f868-353f-4e23-acb9-835ceb13b021",
   "metadata": {},
   "outputs": [],
   "source": [
    "#maxlen = len(max(array_of_poems, key = len))\n",
    "\n",
    "#for i in range(len(array_of_poems)):\n",
    "#    array_of_poems[i] = array_of_poems[i].ljust(maxlen)\n"
   ]
  },
  {
   "cell_type": "markdown",
   "id": "d0834b0c-61b3-4c4b-8214-96f2e4681539",
   "metadata": {
    "tags": []
   },
   "source": [
    "### Show array"
   ]
  },
  {
   "cell_type": "code",
   "execution_count": 11,
   "id": "e3ddcbdd-9e83-4844-aa4b-7372df484c01",
   "metadata": {
    "jupyter": {
     "source_hidden": true
    },
    "tags": []
   },
   "outputs": [
    {
     "name": "stdout",
     "output_type": "stream",
     "text": [
      "66\n",
      "\n",
      "\n",
      "61\n",
      "\n",
      "\n",
      "68\n",
      "\n",
      "\n"
     ]
    }
   ],
   "source": [
    "for i, sentence in enumerate(array_of_poems):\n",
    "    if i == 3:\n",
    "        break;\n",
    "    print(len(sentence))\n",
    "    print('\\n')"
   ]
  },
  {
   "cell_type": "code",
   "execution_count": 12,
   "id": "9bc19ae8",
   "metadata": {
    "collapsed": false,
    "jupyter": {
     "outputs_hidden": false
    },
    "pycharm": {
     "name": "#%%\n"
    }
   },
   "outputs": [
    {
     "name": "stdout",
     "output_type": "stream",
     "text": [
      "438233\n"
     ]
    }
   ],
   "source": [
    "text = \"\"\n",
    "\n",
    "print(len(array_of_poems) - 1)\n",
    "\n",
    "#for i in range(len(array_of_poems) - 1):\n",
    "for i in range(150000):\n",
    "    text = text + array_of_poems[i]\n",
    "    text = text + \"/\"\n",
    "\n",
    "\n"
   ]
  },
  {
   "cell_type": "markdown",
   "id": "c34535e9-892b-41b4-b2cb-a89c60fdfcfb",
   "metadata": {},
   "source": [
    "## Get unique chars in corpus"
   ]
  },
  {
   "cell_type": "code",
   "execution_count": 13,
   "id": "05d688c4-b56f-46fc-a88c-862b2ef63d77",
   "metadata": {},
   "outputs": [
    {
     "name": "stdout",
     "output_type": "stream",
     "text": [
      "29 unique chars\n"
     ]
    }
   ],
   "source": [
    "vocab = sorted(set(text))\n",
    "print(f'{len(vocab)} unique chars')\n",
    "vocab_size = len(vocab)"
   ]
  },
  {
   "cell_type": "code",
   "execution_count": 14,
   "id": "eaa8c6b6-9a5b-4abd-b48b-a5de0aa8ef42",
   "metadata": {
    "tags": []
   },
   "outputs": [
    {
     "data": {
      "text/plain": [
       "[' ',\n",
       " ',',\n",
       " '/',\n",
       " 'a',\n",
       " 'b',\n",
       " 'c',\n",
       " 'd',\n",
       " 'e',\n",
       " 'f',\n",
       " 'g',\n",
       " 'h',\n",
       " 'i',\n",
       " 'j',\n",
       " 'k',\n",
       " 'l',\n",
       " 'm',\n",
       " 'n',\n",
       " 'o',\n",
       " 'p',\n",
       " 'q',\n",
       " 'r',\n",
       " 's',\n",
       " 't',\n",
       " 'u',\n",
       " 'v',\n",
       " 'w',\n",
       " 'x',\n",
       " 'y',\n",
       " 'z']"
      ]
     },
     "execution_count": 14,
     "metadata": {},
     "output_type": "execute_result"
    }
   ],
   "source": [
    "vocab"
   ]
  },
  {
   "cell_type": "markdown",
   "id": "9780c6d3-b47f-4401-879f-1c6954f507fa",
   "metadata": {},
   "source": [
    "## Before training, convert strings to numerical representation"
   ]
  },
  {
   "cell_type": "markdown",
   "id": "0fc70bbf-d679-4605-9da5-a35f29f57a1b",
   "metadata": {
    "pycharm": {
     "name": "#%% md\n"
    }
   },
   "source": [
    "## Create training batches"
   ]
  },
  {
   "cell_type": "code",
   "execution_count": 17,
   "id": "29c70db9",
   "metadata": {
    "collapsed": false,
    "jupyter": {
     "outputs_hidden": false
    },
    "pycharm": {
     "name": "#%%\n"
    }
   },
   "outputs": [
    {
     "name": "stdout",
     "output_type": "stream",
     "text": [
      "Corpus length: 9956223\n",
      "Total chars: 29\n",
      "Number of sequences: 905103\n"
     ]
    }
   ],
   "source": [
    "print(\"Corpus length:\", len(text))\n",
    "\n",
    "chars = sorted(list(set(text)))\n",
    "print(\"Total chars:\", len(chars))\n",
    "char_indices = dict((c, i) for i, c in enumerate(chars))\n",
    "indices_char = dict((i, c) for i, c in enumerate(chars))\n",
    "\n",
    "# cut the text in semi-redundant sequences of maxlen characters\n",
    "maxlen = 100\n",
    "step = 11\n",
    "sentences = []\n",
    "next_chars = []\n",
    "for i in range(0, len(text) - maxlen, step):\n",
    "    sentences.append(text[i : i + maxlen])\n",
    "    next_chars.append(text[i + maxlen])\n",
    "print(\"Number of sequences:\", len(sentences))\n",
    "\n",
    "x = np.zeros((len(sentences), maxlen, len(chars)), dtype=bool)\n",
    "y = np.zeros((len(sentences), len(chars)), dtype=bool)\n",
    "for i, sentence in enumerate(sentences):\n",
    "    for t, char in enumerate(sentence):\n",
    "        x[i, t, char_indices[char]] = 1\n",
    "    y[i, char_indices[next_chars[i]]] = 1"
   ]
  },
  {
   "cell_type": "code",
   "execution_count": 12,
   "id": "3c82072d",
   "metadata": {
    "collapsed": false,
    "jupyter": {
     "outputs_hidden": false
    },
    "pycharm": {
     "name": "#%%\n"
    }
   },
   "outputs": [
    {
     "data": {
      "text/plain": [
       "100"
      ]
     },
     "execution_count": 12,
     "metadata": {},
     "output_type": "execute_result"
    }
   ],
   "source": [
    "x.shape[1]"
   ]
  },
  {
   "cell_type": "code",
   "execution_count": 13,
   "id": "b6cd1aa7",
   "metadata": {
    "collapsed": false,
    "jupyter": {
     "outputs_hidden": false
    },
    "pycharm": {
     "name": "#%%\n"
    }
   },
   "outputs": [
    {
     "data": {
      "text/plain": [
       "29"
      ]
     },
     "execution_count": 13,
     "metadata": {},
     "output_type": "execute_result"
    }
   ],
   "source": [
    "x.shape[2]"
   ]
  },
  {
   "cell_type": "code",
   "execution_count": 14,
   "id": "7e5b39dc",
   "metadata": {
    "collapsed": false,
    "jupyter": {
     "outputs_hidden": false
    },
    "pycharm": {
     "name": "#%%\n"
    }
   },
   "outputs": [
    {
     "name": "stderr",
     "output_type": "stream",
     "text": [
      "2022-05-01 16:18:21.467181: I tensorflow/core/platform/cpu_feature_guard.cc:151] This TensorFlow binary is optimized with oneAPI Deep Neural Network Library (oneDNN) to use the following CPU instructions in performance-critical operations:  AVX2 AVX512F FMA\n",
      "To enable them in other operations, rebuild TensorFlow with the appropriate compiler flags.\n",
      "2022-05-01 16:18:21.468737: I tensorflow/stream_executor/cuda/cuda_gpu_executor.cc:936] successful NUMA node read from SysFS had negative value (-1), but there must be at least one NUMA node, so returning NUMA node zero\n",
      "2022-05-01 16:18:21.469406: I tensorflow/stream_executor/cuda/cuda_gpu_executor.cc:936] successful NUMA node read from SysFS had negative value (-1), but there must be at least one NUMA node, so returning NUMA node zero\n",
      "2022-05-01 16:18:21.469810: I tensorflow/stream_executor/cuda/cuda_gpu_executor.cc:936] successful NUMA node read from SysFS had negative value (-1), but there must be at least one NUMA node, so returning NUMA node zero\n",
      "2022-05-01 16:18:22.571144: I tensorflow/stream_executor/cuda/cuda_gpu_executor.cc:936] successful NUMA node read from SysFS had negative value (-1), but there must be at least one NUMA node, so returning NUMA node zero\n",
      "2022-05-01 16:18:22.571693: I tensorflow/stream_executor/cuda/cuda_gpu_executor.cc:936] successful NUMA node read from SysFS had negative value (-1), but there must be at least one NUMA node, so returning NUMA node zero\n",
      "2022-05-01 16:18:22.572135: I tensorflow/stream_executor/cuda/cuda_gpu_executor.cc:936] successful NUMA node read from SysFS had negative value (-1), but there must be at least one NUMA node, so returning NUMA node zero\n",
      "2022-05-01 16:18:22.572519: I tensorflow/core/common_runtime/gpu/gpu_device.cc:1525] Created device /job:localhost/replica:0/task:0/device:GPU:0 with 13696 MB memory:  -> device: 0, name: GRID V100-16Q, pci bus id: 0000:06:00.0, compute capability: 7.0\n"
     ]
    }
   ],
   "source": [
    "model = keras.Sequential(\n",
    "    [\n",
    "        layers.LSTM(128, input_shape=(x.shape[1], x.shape[2]), return_sequences=True),\n",
    "        layers.Dropout(0.2),\n",
    "        layers.LSTM(128, return_sequences=True),\n",
    "        layers.Dropout(0.2),\n",
    "        layers.LSTM(64),\n",
    "        layers.Dense(len(chars), activation=\"softmax\"),\n",
    "    ]\n",
    ")\n",
    "\n",
    "optimizer = keras.optimizers.RMSprop(learning_rate=0.01)\n",
    "model.compile(loss=\"categorical_crossentropy\", optimizer=optimizer)\n",
    "\n"
   ]
  },
  {
   "cell_type": "code",
   "execution_count": 15,
   "id": "60703971",
   "metadata": {
    "collapsed": false,
    "jupyter": {
     "outputs_hidden": false
    },
    "pycharm": {
     "name": "#%%\n"
    }
   },
   "outputs": [
    {
     "name": "stdout",
     "output_type": "stream",
     "text": [
      "Model: \"sequential\"\n",
      "_________________________________________________________________\n",
      " Layer (type)                Output Shape              Param #   \n",
      "=================================================================\n",
      " lstm (LSTM)                 (None, 100, 128)          80896     \n",
      "                                                                 \n",
      " dropout (Dropout)           (None, 100, 128)          0         \n",
      "                                                                 \n",
      " lstm_1 (LSTM)               (None, 100, 128)          131584    \n",
      "                                                                 \n",
      " dropout_1 (Dropout)         (None, 100, 128)          0         \n",
      "                                                                 \n",
      " lstm_2 (LSTM)               (None, 64)                49408     \n",
      "                                                                 \n",
      " dense (Dense)               (None, 29)                1885      \n",
      "                                                                 \n",
      "=================================================================\n",
      "Total params: 263,773\n",
      "Trainable params: 263,773\n",
      "Non-trainable params: 0\n",
      "_________________________________________________________________\n"
     ]
    }
   ],
   "source": [
    "model.summary()"
   ]
  },
  {
   "cell_type": "code",
   "execution_count": 19,
   "id": "4323d5ed",
   "metadata": {
    "collapsed": false,
    "jupyter": {
     "outputs_hidden": false
    },
    "pycharm": {
     "name": "#%%\n"
    }
   },
   "outputs": [],
   "source": [
    "def sample(preds, temperature=1.0):\n",
    "    # helper function to sample an index from a probability array\n",
    "    preds = np.asarray(preds).astype(\"float64\")\n",
    "    preds = np.log(preds) / temperature\n",
    "    exp_preds = np.exp(preds)\n",
    "    preds = exp_preds / np.sum(exp_preds)\n",
    "    probas = np.random.multinomial(1, preds)\n",
    "    return np.argmax(probas)"
   ]
  },
  {
   "cell_type": "code",
   "execution_count": 17,
   "id": "0a1e8557",
   "metadata": {
    "collapsed": false,
    "jupyter": {
     "outputs_hidden": false
    },
    "pycharm": {
     "name": "#%%\n"
    }
   },
   "outputs": [
    {
     "name": "stderr",
     "output_type": "stream",
     "text": [
      "2022-05-01 16:18:23.497228: W tensorflow/core/framework/cpu_allocator_impl.cc:82] Allocation of 2624798700 exceeds 10% of free system memory.\n",
      "2022-05-01 16:18:25.278986: W tensorflow/core/framework/cpu_allocator_impl.cc:82] Allocation of 2624798700 exceeds 10% of free system memory.\n",
      "2022-05-01 16:18:31.527294: I tensorflow/stream_executor/cuda/cuda_dnn.cc:368] Loaded cuDNN version 8100\n"
     ]
    },
    {
     "name": "stdout",
     "output_type": "stream",
     "text": [
      "1768/1768 [==============================] - 74s 38ms/step - loss: 2.0287\n",
      "\n",
      "...Generating with seed: \"letting us know/i wanted to throw, war and peace but it was on,my kindle so no/look at their picture\"\n",
      "/i really though or,the best will do you/i cant see the gried/i know what like and the, dischoring the chool he bear, what textach and when the part/and missing and the part, the are again where at it/thank that the may it/when the plied that do, can the world do the prese/just stars with people/so and you people, be so the the art your a, mind the spint that i was leart/shit the same on i have, y\n",
      "\n",
      "i really though or,the best will do you\n",
      "i know what like and the, dischoring the chool he bear, what textach and when the part\n",
      "thank that the may it\n",
      "just stars with people\n",
      "\n"
     ]
    },
    {
     "name": "stderr",
     "output_type": "stream",
     "text": [
      "2022-05-01 16:20:08.617583: W tensorflow/core/framework/cpu_allocator_impl.cc:82] Allocation of 2624798700 exceeds 10% of free system memory.\n",
      "2022-05-01 16:20:10.792493: W tensorflow/core/framework/cpu_allocator_impl.cc:82] Allocation of 2624798700 exceeds 10% of free system memory.\n"
     ]
    },
    {
     "name": "stdout",
     "output_type": "stream",
     "text": [
      "1768/1768 [==============================] - 68s 39ms/step - loss: 1.6284\n",
      "\n",
      "...Generating with seed: \"ot about who, started what its about who,does did it better/cried like a baby, at a star is born and\"\n",
      ", i want to be is a friends/i dont be they could well,use i said what you/and i was dont be, the book about the ostion/im that i dont want, a bitch it is a shitter/i dont always let you,i dont ever love, that are my best is some had/i want you had a, someone so to my same that well, my way i would not mean of, im the both i love to gonna,be the look to that seam, the best the same and i wont be, m\n",
      "\n",
      "i dont be they could well,use i said what you\n",
      "im that i dont want, a bitch it is a shitter\n",
      "\n"
     ]
    },
    {
     "name": "stderr",
     "output_type": "stream",
     "text": [
      "2022-05-01 16:21:47.714635: W tensorflow/core/framework/cpu_allocator_impl.cc:82] Allocation of 2624798700 exceeds 10% of free system memory.\n"
     ]
    },
    {
     "name": "stdout",
     "output_type": "stream",
     "text": [
      "1768/1768 [==============================] - 68s 38ms/step - loss: 1.5750\n",
      "\n",
      "...Generating with seed: \"hate, selfish stingy people i,would never relate/looking forward to, staying with my aunt cause my,f\"\n",
      "eel discortans is, is the to be my serious, well is for what you think base/i was dont all the, best work and is a lot/when you all the back, the time to be the best/in my hand to suck,someone the people see, to like you special deserve, to some is the newic with, the hurt from the singer how/deleted it was, contrate a sexidal, i want to be in the prodect, story to spend the and what, i can is clo\n",
      "\n",
      "i was dont all the, best work and is a lot\n",
      "in my hand to suck,someone the people see, to like you special deserve, to some is the newic with, the hurt from the singer how\n",
      "\n",
      "1768/1768 [==============================] - 68s 38ms/step - loss: 1.5460\n",
      "\n",
      "...Generating with seed: \"sion for,too many pictures/when you pretend to, walk around the strip pole thats,just skittles and s\"\n",
      "ometimes/the way shit in her, i need to really need to, do that i didnt got been an excise,to have a rases/if you want to be, a start brand i was not because/i think to the, the tonight it sort that that, the damn bark the deserve that, the one i know it was that, the box the best the starter, it out to car we was be/i wanna be the, have my early that was a, start who you see thats any, mom that w\n",
      "\n",
      "the way shit in her, i need to really need to, do that i didnt got been an excise,to have a rases\n",
      "i think to the, the tonight it sort that that, the damn bark the deserve that, the one i know it was that, the box the best the starter, it out to car we was be\n",
      "\n",
      "1768/1768 [==============================] - 68s 38ms/step - loss: 1.5282\n",
      "\n",
      "...Generating with seed: \"t has a,reason though bad one/remember when you, told me that youd always be,there where are you now\"\n",
      " shit, i want to fair with the shit, and this is fine is the witter/dont be and one of, my side and i was make a, college that that to be one/the ssome from the word, me in my for the trience/can is what you really, be the picture is the man/i would be always, process of the problems to, she have a winderstand that/i was problems to, the company to make the poss, that a same and together, the tona\n",
      "\n",
      "dont be and one of, my side and i was make a, college that that to be one\n",
      "can is what you really, be the picture is the man\n",
      "\n",
      "1768/1768 [==============================] - 67s 38ms/step - loss: 1.5147\n",
      "\n",
      "...Generating with seed: \"sure, exactly what im doing,with my next set up/be warned though we arent, professionals and are sti\"\n",
      "ll you, see you and a chicken and say, is it doesnt even go to, what you start to sleep someone b"
     ]
    },
    {
     "name": "stderr",
     "output_type": "stream",
     "text": [
      "/tmp/ipykernel_79983/1795279913.py:4: RuntimeWarning: divide by zero encountered in log\n",
      "  preds = np.log(preds) / temperature\n"
     ]
    },
    {
     "name": "stdout",
     "output_type": "stream",
     "text": [
      "e, happy to go to this new, panty you just wanna dine/the really man a good,sunday and so when,you could watch someone never, be but it doesnt really, be anything day is it when, my back in this lol you really, is how good season are it/i dont see the call/i know what the dream,and really really, in th\n",
      "\n",
      "the really man a good,sunday and so when,you could watch someone never, be but it doesnt really, be anything day is it when, my back in this lol you really, is how good season are it\n",
      "\n",
      "1768/1768 [==============================] - 68s 39ms/step - loss: 1.5025\n",
      "\n",
      "...Generating with seed: \" if you just got,into weightlifting/city attorneys, have probably already screamed,at him i dont kno\"\n",
      "w, in the only fair my world/i need to be down, the check the only time/i think i was a, start the start the best to the,best things it is no, i miss the world in the only, same and i think the band/i dont have to get, the only two through the accould, go to fully on the sist, is the same congrather is, all the problem to have a, tomorrow so i love the, car is everything the only, server that the \n",
      "\n",
      "i need to be down, the check the only time\n",
      "\n",
      "1768/1768 [==============================] - 68s 39ms/step - loss: 1.4745\n",
      "\n",
      "...Generating with seed: \"ves me that much more drive,to prove people wrong/telling people to, be positive but youre all,negat\"\n",
      "ion to be/i want to come away, i wanna be self like a,propol and like they can/the solic are entire, thing and i was always rain,what we and my best/the top and seems pain, having the game was sad you,was the fact on it/i wanna be home, the same being they got them is,work in the best more/having like you was, dont want to the change someone,who dont get it a wait/i can never really, ever be sure \n",
      "\n",
      "i want to come away, i wanna be self like a,propol and like they can\n",
      "the top and seems pain, having the game was sad you,was the fact on it\n",
      "having like you was, dont want to the change someone,who dont get it a wait\n",
      "\n",
      "1768/1768 [==============================] - 68s 38ms/step - loss: 1.4480\n",
      "\n",
      "...Generating with seed: \" you,are on the dance floor/i feel like whitson, is straight up trolling the las,with this article/g\"\n",
      "reat to have a fag, with the lost thing to be good,back to me hears for/i have a money, i know what to the destroying,the come in a best/the move to make me, the orger is in my part,that shit the town makes/but i dont can mean, on the really had the sitter,party so bad the same/im way a sick again, was me the car and i would,be worth the company/can find a good flool, i wont be happy to read,the d\n",
      "\n",
      "i have a money, i know what to the destroying,the come in a best\n",
      "but i dont can mean, on the really had the sitter,party so bad the same\n",
      "\n",
      "1768/1768 [==============================] - 67s 38ms/step - loss: 1.4386\n",
      "\n",
      "...Generating with seed: \", a white girl named vivian,thats right i bet not/sorry were clothed can, make a great door sign for\"\n",
      " me,that i think you could/when i have to come, his books and we was someone,to the same things is/they never need to, her to the last people and,i dont do like it/some weird as i want, to be store and they need to,be a life to get/how are a forter, to her person as i can,be over the worst/i can school that were, a kids i love the same troot, is a good day you dont make,a worst i could feel/he doe\n",
      "\n",
      "when i have to come, his books and we was someone,to the same things is\n",
      "some weird as i want, to be store and they need to,be a life to get\n",
      "i can school that were, a kids i love the same troot, is a good day you dont make,a worst i could feel\n",
      "\n",
      "1768/1768 [==============================] - 69s 39ms/step - loss: 1.4314\n",
      "\n",
      "...Generating with seed: \"n up,now i feel so old/love going to house, show and quickly knowing which,men are fucking bad/the h\"\n",
      "appiert, when i was a way of you at,the things someone come/when you leave the same, to can so it put it ive,going to like you/i dont make the only, man to wait on the same more,than in the soully/the guy is so much, and a promise to remember,the children of the fuck/i wanna feel so, someone when i will cut and,beat a witures what/i would wanna ever, be the flow bitch does that you,dont take the s\n",
      "\n",
      "when you leave the same, to can so it put it ive,going to like you\n",
      "the guy is so much, and a promise to remember,the children of the fuck\n",
      "\n",
      "1768/1768 [==============================] - 68s 38ms/step - loss: 1.4253\n",
      "\n",
      "...Generating with seed: \"im straight but,loved him he loved me/looking at people, in the replies make me feel,like i have no \"\n",
      "for/i dont do it with, the way and i dont have to,go to the same bit/i was a while its, completely as some breaks in,the coss is so much/i would forget a, since i was a good time it,to be the cute to have/i should take a thing, survion in the half unless,for any whole turn/i think i dont really, dont to come a proporic,and i have to proper/i can just think it, to be on the same congrat,to start th\n",
      "\n",
      "i dont do it with, the way and i dont have to,go to the same bit\n",
      "i would forget a, since i was a good time it,to be the cute to have\n",
      "i think i dont really, dont to come a proporic,and i have to proper\n",
      "\n",
      "1768/1768 [==============================] - 68s 38ms/step - loss: 1.4193\n",
      "\n",
      "...Generating with seed: \" shit, anyone could ever say,about mike ever/sonoma mountain, or bodega nay today,fuck it both it is\"\n",
      "/you love the cant know, what you can if you want to,say dont still that makes/i was a really, do that maybe you have a,confused to do it/i have the game of, an enter of an entere,that i would be the poss/im so show to make, your people who probably so,france than anything/i was so from the, work to have a school something,the take im sorry/they and good cards i, never think they have a people,of \n",
      "\n",
      "you love the cant know, what you can if you want to,say dont still that makes\n",
      "i have the game of, an enter of an entere,that i would be the poss\n",
      "i was so from the, work to have a school something,the take im sorry\n",
      "\n",
      "1768/1768 [==============================] - 69s 39ms/step - loss: 1.4144\n",
      "\n",
      "...Generating with seed: \" get compliments from strangers,king of compliments/its really one more, week of september left like\"\n",
      ",the doesnt have to/the bad thing means the, drink up the first thought it had,to tell the baby/im so raining the, hander to the looks from it,playing any grand/i have to say i should, be not the way and its the,can i want my sport/its a possible, i had to get something to,be the good wife as/they want to not be, the people live to start it,wasnt better is/what a but that yall, to be word of the b\n",
      "\n",
      "the bad thing means the, drink up the first thought it had,to tell the baby\n",
      "i have to say i should, be not the way and its the,can i want my sport\n",
      "they want to not be, the people live to start it,wasnt better is\n",
      "\n",
      "1768/1768 [==============================] - 68s 39ms/step - loss: 1.4096\n",
      "\n",
      "...Generating with seed: \"the disgusting food,ive eaten im so/i cant decide if, im happy that youre gone or,if i need you back\"\n",
      "/its a broken people, but i dont know why i want,to look on the head/why i just cant always, care the apparent with the guy,i love them before/so i cant be this, the new one with the only,fucking life is what/i think i see me, what the money in the biggest,complications/sometimes they love this, so i dont have someone and,back of a skin left/you dont be so in, the place and more no song i,cant hav\n",
      "\n",
      "its a broken people, but i dont know why i want,to look on the head\n",
      "so i cant be this, the new one with the only,fucking life is what\n",
      "sometimes they love this, so i dont have someone and,back of a skin left\n",
      "\n",
      "1768/1768 [==============================] - 69s 39ms/step - loss: 1.4063\n",
      "\n",
      "...Generating with seed: \"o her job/the political, system is broken but you,should still vote today/does anyone have, some clu\"\n",
      "b i find the hard of,the character is/he see twice they think, the same but i wanna find,for the other same/i think i think and, a single in the idea,why is in stress the sure/i know i should be, the moment that is going,to be the faster/i really want to, have to be like the should take,the people who have/the only people, is a thing the makes them is,the chances would lose/i truly believe, i wann\n",
      "\n",
      "he see twice they think, the same but i wanna find,for the other same\n",
      "i know i should be, the moment that is going,to be the faster\n",
      "the only people, is a thing the makes them is,the chances would lose\n",
      "\n",
      "1768/1768 [==============================] - 69s 39ms/step - loss: 1.4025\n",
      "\n",
      "...Generating with seed: \"n to pac/all these years later, and your voice still has me in,the palm of your hands/im really fuck\"\n",
      "ing, seem to have to probably want,to go to the new/i can be working, the sing is the lol you are,begin to get these/they find me what i should, simple happy anything,that does i have to, make the hard of being the,better than did it/i always be being, the naughter again thats what,you want to look it/i had to be an, the bore of the happy secret,watching everything/i have a really, the life is a g\n",
      "\n",
      "i can be working, the sing is the lol you are,begin to get these\n",
      "i always be being, the naughter again thats what,you want to look it\n",
      "\n",
      "1768/1768 [==============================] - 68s 38ms/step - loss: 1.3995\n",
      "\n",
      "...Generating with seed: \"ly, pressed about a bitch who don,t gaf about you/you cant change someone, who doesnt see a problem,\"\n",
      "on the starce to start/i have to me but, the all way to realize,the but they had all/i would be on the, people will remember the,complaines brown pain/why i see you feel, me a sides so rude to me,and its the closes/you are so many, streams are work on the facted,in the choice is not/i would work and how, the content in a done was,when they have to see/i want to be very, sound of the world for the \n",
      "\n",
      "i have to me but, the all way to realize,the but they had all\n",
      "why i see you feel, me a sides so rude to me,and its the closes\n",
      "i would work and how, the content in a done was,when they have to see\n",
      "\n",
      "1768/1768 [==============================] - 69s 39ms/step - loss: 1.4370\n",
      "\n",
      "...Generating with seed: \"umpkin,pancakes at dennys/merry christmas my, tree just fell on me while i,was putting it up/if tayl\"\n",
      "less i need, my life to say i start to,got the story is/i can have a sping, the time i like the only,more deal better hand/i think and if you, like a better help there will,should stop what you cant/i had the post make, i can be the and im some,the finishers/started of the christmas, the stuff the comfore ass like,i need your fucking/help i dont want to, be like i cant go back out,the life but how\n",
      "\n",
      "i can have a sping, the time i like the only,more deal better hand\n",
      "i had the post make, i can be the and im some,the finishers\n",
      "\n",
      "1768/1768 [==============================] - 69s 39ms/step - loss: 1.4618\n",
      "\n",
      "...Generating with seed: \"ating/following you and, have a merry christmas could,you please follow back/im sorry to hear, that \"\n",
      "hate i can close me more,the person to clear/that when i wont want, to make to love it out the,world and i like it/he had a lot to, make my condeps than a takes,on the please are go/they are my moment, and the best and it americ, or breathing a nuck to go,convice of the heart/i find the face man, i dont even want to be,the for the group now/i find a many, story and that the car is,a pire life who \n",
      "\n",
      "that when i wont want, to make to love it out the,world and i like it\n",
      "they are my moment, and the best and it americ, or breathing a nuck to go,convice of the heart\n",
      "\n"
     ]
    }
   ],
   "source": [
    "epochs = 20\n",
    "batch_size = 512\n",
    "\n",
    "input_data = x\n",
    "output_data = y\n",
    "\n",
    "history = []\n",
    "\n",
    "for epoch in range(epochs):\n",
    "    history = model.fit(input_data, output_data, batch_size=batch_size, epochs=1)\n",
    "\n",
    "    print()\n",
    "\n",
    "    print_poem = 0\n",
    "    temperature = 0.5\n",
    "    start_index = random.randint(0, len(text) - maxlen - 1)\n",
    "    generated = \"\"\n",
    "\n",
    "    seed =  text[start_index : start_index + maxlen]\n",
    "    print('...Generating with seed: \"' + seed + '\"')\n",
    "\n",
    "    for i in range(400):\n",
    "        x_pred = np.zeros((1, len(seed), len(chars)))\n",
    "        for t, char in enumerate(seed):\n",
    "            x_pred[0, t, char_indices[char]] = 1.0\n",
    "        preds = model.predict(x_pred, verbose=0)[0]\n",
    "\n",
    "        next_index = sample(preds, temperature)\n",
    "        next_char = indices_char[next_index]\n",
    "        seed = seed[1:] + next_char\n",
    "        generated += next_char\n",
    "        #if print_poem == 1:\n",
    "        print(next_char, end=\"\")\n",
    "        #if next_char == \"/\":\n",
    "        #    print_poem = print_poem ^ 1\n",
    "\n",
    "    print()\n",
    "    haiku_gen = re.findall('/(.+?)/', generated)\n",
    "\n",
    "    print()\n",
    "    for i in range(len(haiku_gen)):\n",
    "        print(haiku_gen[i])\n",
    "    print()\n",
    "\n",
    "\n",
    "\n"
   ]
  },
  {
   "cell_type": "code",
   "execution_count": null,
   "id": "93fe7191-aaf2-44f9-93c1-3c2b026226d8",
   "metadata": {},
   "outputs": [],
   "source": [
    "model.save('myModel.h5')"
   ]
  },
  {
   "cell_type": "code",
   "execution_count": 15,
   "id": "2343e975-ba2e-4874-a953-1ec4242fd5ae",
   "metadata": {},
   "outputs": [],
   "source": [
    "model = keras.models.load_model('myModel.h5')"
   ]
  },
  {
   "cell_type": "code",
   "execution_count": 31,
   "id": "7ced3c2d",
   "metadata": {
    "collapsed": false,
    "jupyter": {
     "outputs_hidden": false
    },
    "pycharm": {
     "name": "#%%\n"
    }
   },
   "outputs": [
    {
     "name": "stdout",
     "output_type": "stream",
     "text": [
      "...Generating with seed: \"rse it does/ive gotten nothing, done today and i feel like,garbage about it/getting that bread is, h\"\n",
      "ow i alw"
     ]
    },
    {
     "name": "stderr",
     "output_type": "stream",
     "text": [
      "/tmp/ipykernel_44/1795279913.py:4: RuntimeWarning: divide by zero encountered in log\n",
      "  preds = np.log(preds) / temperature\n"
     ]
    },
    {
     "name": "stdout",
     "output_type": "stream",
     "text": [
      "ays blow the same,is a breaking stuff/\n",
      "\n",
      "have you are any, sister to the lol they have,the first and what you/\n",
      "\n",
      "he you probably show, the class people you are control,this is a lot of/\n",
      "\n",
      "i dont want someone, and i would be any of,starting and not for/\n",
      "\n",
      "you really have a, creative of her your sense,than any year aw/\n",
      "\n",
      "i like a bitches, are man the party sounds the,day pretty carding/\n",
      "\n",
      "i have a first side, with the real fuck bitch is the,fair and always been/\n",
      "\n",
      "i still can care it, about it when you shouldnt,see the week and it/\n",
      "\n",
      "my start class body, does the staman break my pretty,life be the other/\n",
      "\n",
      "i feel have a time, in the day but i dont want,to get this stranger/\n",
      "\n",
      "i like to explain, the for the only baby,is the night media/\n",
      "\n",
      "the weekend in the one, make you a match stranger you,start to go to have/\n",
      "\n",
      "the only of the, shot of house and go the date,this is this of year/\n",
      "\n",
      "the love and stand the, time and any shot things bro,the playing for the stars/\n",
      "\n",
      "i find the bored, to have one of the different,there in the chicken/\n",
      "\n",
      "i can just cant go, that you know i dont let the,my mom with the real/\n",
      "\n",
      "i know it was the, the could cant be come for a,still take the days is/\n",
      "\n",
      "it was long my stories, again of the base more than,nothing today if you/\n",
      "\n",
      "im so heart my streat, like a change and i cant get,can feel a life to/\n",
      "\n",
      "i cant think you will, want to little head i can,have the could be a stare/\n",
      "\n",
      "my first year the friends, to ready to find that i,just want the header/\n",
      "\n",
      "i will probably just, can say this heart in his time,i like the single/\n",
      "\n",
      "i dont still always, listen to made it and it,wanna say this long/\n",
      "\n",
      "i was a first song, into the comment of the,new progress things are/\n",
      "\n",
      "its a finished and, on the pending matter that,you are the guys and/\n",
      "\n",
      "i forgive your face, of the face and i still have,to want to go back/\n",
      "\n",
      "any way to free, that if you want to make the,car from the most time/\n",
      "\n",
      "first stream i have to, do the only most brought the,armer to make them/\n",
      "\n",
      "i just want to love, to the a only passion,of story fast close/\n",
      "\n",
      "the first wh"
     ]
    }
   ],
   "source": [
    "\n",
    "temperature = 0.5\n",
    "start_index = random.randint(0, len(text) - maxlen - 1)\n",
    "generated = \"\"\n",
    "\n",
    "seed =  text[start_index : start_index + maxlen]\n",
    "\n",
    "print('...Generating with seed: \"' + seed + '\"')\n",
    "\n",
    "for i in range(2000):\n",
    "    x_pred = np.zeros((1, len(seed), len(chars)))\n",
    "    for t, char in enumerate(seed):\n",
    "        x_pred[0, t, char_indices[char]] = 1.0\n",
    "    preds = model.predict(x_pred, verbose=0)[0]\n",
    "\n",
    "    next_index = sample(preds, temperature)\n",
    "    next_char = indices_char[next_index]\n",
    "    seed = seed[1:] + next_char\n",
    "    generated += next_char\n",
    "    #if print_poem == 1:\n",
    "    print(next_char, end=\"\")\n",
    "    if next_char == \"/\":\n",
    "        print()\n",
    "        print()\n",
    "\n"
   ]
  },
  {
   "cell_type": "code",
   "execution_count": null,
   "id": "07bfe2ba",
   "metadata": {
    "collapsed": false,
    "jupyter": {
     "outputs_hidden": false
    },
    "pycharm": {
     "name": "#%%\n"
    }
   },
   "outputs": [],
   "source": []
  },
  {
   "cell_type": "code",
   "execution_count": null,
   "id": "abf5075b-d863-43d8-bf7f-a40c2d9306c6",
   "metadata": {},
   "outputs": [],
   "source": []
  }
 ],
 "metadata": {
  "kernelspec": {
   "display_name": "Python 3 (ipykernel)",
   "language": "python",
   "name": "python3"
  },
  "language_info": {
   "codemirror_mode": {
    "name": "ipython",
    "version": 3
   },
   "file_extension": ".py",
   "mimetype": "text/x-python",
   "name": "python",
   "nbconvert_exporter": "python",
   "pygments_lexer": "ipython3",
   "version": "3.9.10"
  }
 },
 "nbformat": 4,
 "nbformat_minor": 5
}
