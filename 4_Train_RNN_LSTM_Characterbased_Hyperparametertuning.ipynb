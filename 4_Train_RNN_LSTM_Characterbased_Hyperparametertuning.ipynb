{
 "cells": [
  {
   "cell_type": "markdown",
   "id": "9cfb0df2-6691-42f0-a537-06a1ffbfd9a7",
   "metadata": {},
   "source": [
    "# Model training"
   ]
  },
  {
   "cell_type": "markdown",
   "id": "1bc7d1ec-28ab-4353-9de5-9d0102b0d061",
   "metadata": {},
   "source": [
    "## Import packages"
   ]
  },
  {
   "cell_type": "code",
   "execution_count": null,
   "id": "203148e5-af60-4988-b678-bda538d6249b",
   "metadata": {},
   "outputs": [],
   "source": [
    "import tensorflow as tf\n",
    "import pandas as pd\n",
    "import os\n",
    "from tensorflow import keras\n",
    "from tensorflow.keras import layers\n",
    "import numpy as np\n",
    "import random\n",
    "import re\n",
    "from kerastuner.tuners import RandomSearch\n",
    "from kerastuner.engine.hyperparameters import HyperParameters\n",
    "\n"
   ]
  },
  {
   "cell_type": "markdown",
   "id": "d0d02a6e-d7e4-49bb-85a8-db2d70189bb6",
   "metadata": {},
   "source": [
    "## Read data"
   ]
  },
  {
   "cell_type": "code",
   "execution_count": null,
   "id": "0c39059e-77d5-42d6-bdce-766e49e9f5fa",
   "metadata": {},
   "outputs": [],
   "source": [
    "# Datensatz einlesen\n",
    "df = pd.read_csv('data/out.csv')"
   ]
  },
  {
   "cell_type": "markdown",
   "id": "7cbd8388-e4bc-4b0b-b6f2-c8ab37360f92",
   "metadata": {},
   "source": [
    "## Transform dataframe"
   ]
  },
  {
   "cell_type": "code",
   "execution_count": null,
   "id": "f19816b9-d18a-4c52-bda3-7aef12cb0867",
   "metadata": {
    "tags": []
   },
   "outputs": [],
   "source": [
    "# Dataframe mit 3 Spalten. Werden so gejoint, dass ein neues Dataframe mit ein Haiku pro Zeile erstellt wird\n",
    "df = df[['0', '1', '2']].agg(lambda x: '\\n'.join(x.values), axis=1)\n",
    "# Dataframe to list [[]] -> []\n",
    "array_of_poems = df.values.tolist()"
   ]
  },
  {
   "cell_type": "code",
   "execution_count": null,
   "id": "a2726013-e79e-4d25-b5da-a0fc4e2c45f1",
   "metadata": {},
   "outputs": [],
   "source": [
    "# num_poems an Haikus mit Semicolon zwshceneinander zusammenfuegen\n",
    "num_poems = 10000\n",
    "\n",
    "text = ';'.join(array_of_poems[:num_poems])"
   ]
  },
  {
   "cell_type": "markdown",
   "id": "c34535e9-892b-41b4-b2cb-a89c60fdfcfb",
   "metadata": {},
   "source": [
    "## Get unique chars in corpus"
   ]
  },
  {
   "cell_type": "code",
   "execution_count": null,
   "id": "05d688c4-b56f-46fc-a88c-862b2ef63d77",
   "metadata": {},
   "outputs": [],
   "source": [
    "# Anzahl der unterschielichen characters im gesamt datensatz herausfinden\n",
    "vocab = sorted(set(text))\n",
    "vocab_size = len(vocab)\n",
    "print(f'{vocab_size} unique chars')\n",
    "print(vocab)"
   ]
  },
  {
   "cell_type": "markdown",
   "id": "0fc70bbf-d679-4605-9da5-a35f29f57a1b",
   "metadata": {
    "pycharm": {
     "name": "#%% md\n"
    }
   },
   "source": [
    "## Create training batches"
   ]
  },
  {
   "cell_type": "code",
   "execution_count": null,
   "id": "29c70db9",
   "metadata": {
    "collapsed": false,
    "jupyter": {
     "outputs_hidden": false
    },
    "pycharm": {
     "name": "#%%\n"
    }
   },
   "outputs": [],
   "source": [
    "print(\"Total chars:\", vocab_size)\n",
    "# Dictionary erstellen. Jeder character wird mit einer Zahl nummeriert\n",
    "char_indices = {c: i for i, c in enumerate(vocab)}\n",
    "indices_char = {i: c for i, c in enumerate(vocab)}\n",
    "\n",
    "# cut the text in semi-redundant sequences of seq_len characters\n",
    "seq_len = 150\n",
    "step = 11\n",
    "# Input String\n",
    "sequences = []\n",
    "#Output character\n",
    "next_chars = []\n",
    "for i in range(0, len(text) - seq_len, step):\n",
    "    sequences.append(text[i : i + seq_len])\n",
    "    next_chars.append(text[i + seq_len])\n",
    "print(\"Number of sequences:\", len(sequences))\n",
    "\n",
    "# Input String onehot encoded\n",
    "x = np.zeros((len(sequences), seq_len, vocab_size), dtype=bool)\n",
    "# Output char onehot encoded\n",
    "y = np.zeros((len(sequences), vocab_size), dtype=bool)\n",
    "for i, sequence in enumerate(sequences):\n",
    "    for t, char in enumerate(sequence):\n",
    "        x[i, t, char_indices[char]] = 1\n",
    "    y[i, char_indices[next_chars[i]]] = 1\n"
   ]
  },
  {
   "cell_type": "markdown",
   "id": "e0f81d86-3722-4859-b4a0-f2af92b9e4a7",
   "metadata": {},
   "source": [
    "## Hyperparametertuning / Model Optimierung"
   ]
  },
  {
   "cell_type": "code",
   "execution_count": null,
   "id": "2f28f5eb-88a2-45e7-a4e9-98f7d185b19f",
   "metadata": {},
   "outputs": [],
   "source": [
    "!pip install -q -U keras-tuner"
   ]
  },
  {
   "cell_type": "code",
   "execution_count": null,
   "id": "1f43227f-1cfc-40e3-8974-4942dd74de6c",
   "metadata": {},
   "outputs": [],
   "source": [
    "def build_model(hp):\n",
    "    model = keras.Sequential()\n",
    "    model.add(layers.LSTM(hp.Int('input_unit', min_value=32, max_value=512, step=32), \n",
    "                        input_shape=(x.shape[1], x.shape[2]), \n",
    "                        dropout=hp.Float('Dropout_rate',min_value=0.1,max_value=0.5,step=0.1),\n",
    "                        return_sequences=True)\n",
    "             )\n",
    "    for i in range(hp.Int('n_layers', 1, 2)):\n",
    "        model.add(layers.LSTM(hp.Int(f'lstm_{i}_units', min_value=32, max_value=512, step=32),  \n",
    "                            dropout=hp.Float('Dropout_rate',min_value=0.1,max_value=0.5,step=0.1),\n",
    "                            return_sequences=True)\n",
    "                 )\n",
    "    model.add(layers.LSTM(hp.Int('layer_2_neurons', min_value=32, max_value=512, step=32)))      \n",
    "    model.add(layers.Dense(vocab_size, activation=hp.Choice('dense_activation', values=['relu', 'sigmoid'], default='relu')))\n",
    "    \n",
    "    model.compile(loss='categorical_crossentropy', optimizer='RMSprop', metrics = ['accuracy'])\n",
    "              \n",
    "    return model"
   ]
  },
  {
   "cell_type": "code",
   "execution_count": null,
   "id": "d04c88e7-9cd6-475a-95d5-a043ba759d40",
   "metadata": {},
   "outputs": [],
   "source": [
    "tuner= RandomSearch(\n",
    "        build_model,\n",
    "        max_trials=10,\n",
    "        objective=\"accuracy\", # Beispielobjective\n",
    "        executions_per_trial=1\n",
    "        )"
   ]
  },
  {
   "cell_type": "code",
   "execution_count": null,
   "id": "9bccc4bd-ef0e-49f8-ab1f-056f8f59320a",
   "metadata": {
    "tags": []
   },
   "outputs": [],
   "source": [
    "tuner.search(\n",
    "        x=x,\n",
    "        y=y,\n",
    "        epochs=3,\n",
    "        batch_size=512,\n",
    ")"
   ]
  },
  {
   "cell_type": "code",
   "execution_count": null,
   "id": "6bab515a-cec9-45e5-87cd-bc9c6cb07714",
   "metadata": {},
   "outputs": [],
   "source": [
    "model = tuner.get_best_models(num_models=1)[0]"
   ]
  },
  {
   "cell_type": "code",
   "execution_count": null,
   "id": "7e5b39dc",
   "metadata": {
    "collapsed": false,
    "jupyter": {
     "outputs_hidden": false
    },
    "pycharm": {
     "name": "#%%\n"
    }
   },
   "outputs": [],
   "source": [
    "# model = keras.Sequential(\n",
    "#     [\n",
    "#         # input_shape=sequenz laenge, vocab_size\n",
    "#         # return sequences true -> input-shape = output-shape \n",
    "#         # shape-input (NONE, seq_len, vocab_size)\n",
    "#         layers.LSTM(256, input_shape=(x.shape[1], x.shape[2]), return_sequences=True),\n",
    "#         layers.Dropout(0.2),\n",
    "#         # shape-input (NONE, seq_len, vocab_size)\n",
    "#         layers.LSTM(128, return_sequences=True),\n",
    "#         layers.Dropout(0.2),\n",
    "#         # shape-input (NONE, seq_len, vocab_size)\n",
    "#         layers.LSTM(64),\n",
    "#         # shape-input (NONE, vocab_size)\n",
    "#         layers.Dense(vocab_size, activation=\"softmax\"),\n",
    "#         # bsp out [0.3, 0.2, 0.1, 0.4]\n",
    "#     ]\n",
    "# )\n",
    "\n",
    "# optimizer = keras.optimizers.RMSprop(learning_rate=0.01)\n",
    "# model.compile(loss=\"categorical_crossentropy\", optimizer=optimizer)"
   ]
  },
  {
   "cell_type": "code",
   "execution_count": null,
   "id": "60703971",
   "metadata": {
    "collapsed": false,
    "jupyter": {
     "outputs_hidden": false
    },
    "pycharm": {
     "name": "#%%\n"
    }
   },
   "outputs": [],
   "source": [
    "model.summary()"
   ]
  },
  {
   "cell_type": "code",
   "execution_count": null,
   "id": "4323d5ed",
   "metadata": {
    "collapsed": false,
    "jupyter": {
     "outputs_hidden": false
    },
    "pycharm": {
     "name": "#%%\n"
    }
   },
   "outputs": [],
   "source": [
    "# Standartfunktion Probability array to onehot to integerencoded char \n",
    "# [0.3, 0.2, 0.1, 0.4] -> [0, 0, 0, 1] -> return 4 (stelle, an der 1)\n",
    "def sample(prob, temperature=1.0):\n",
    "    # helper function to sample an index from a probability array\n",
    "    prob = np.asarray(prob).astype(\"float64\")\n",
    "    prob = np.log(prob) / temperature\n",
    "    exp_prob = np.exp(prob)\n",
    "    prob = exp_prob / np.sum(exp_prob)\n",
    "    probas = np.random.multinomial(1, prob)\n",
    "    return np.argmax(probas)"
   ]
  },
  {
   "cell_type": "code",
   "execution_count": null,
   "id": "71f67c3e-b706-48d3-bb5b-27e67982149e",
   "metadata": {},
   "outputs": [],
   "source": [
    "#model = keras.models.load_model('myModel.h5')"
   ]
  },
  {
   "cell_type": "code",
   "execution_count": null,
   "id": "0a1e8557",
   "metadata": {
    "pycharm": {
     "name": "#%%\n"
    },
    "tags": []
   },
   "outputs": [],
   "source": [
    "epochs = 30\n",
    "batch_size = 512\n",
    "\n",
    "input_data = x\n",
    "output_data = y\n",
    "\n",
    "for epoch in range(epochs):\n",
    "    print(f\"\\n\\nEPOCH:{epoch}\")\n",
    "    model.fit(input_data, output_data, batch_size=batch_size, epochs=1)\n",
    "    model.save('myModelTuner.h5')\n",
    "    print()\n",
    "\n",
    "    generate_chars = 200\n",
    "    temperature = 1.0\n",
    "    start_index = random.randint(0, len(text) - seq_len - 1)\n",
    "    generated = \"\"\n",
    "\n",
    "    seed =  text[start_index : start_index + seq_len]\n",
    "   \n",
    "    #print('...Generating with seed: \"' + seed + '\"')\n",
    "\n",
    "    for i in range(generate_chars):\n",
    "        x_pred = np.zeros((1, len(seed), vocab_size))\n",
    "        for t, char in enumerate(seed):\n",
    "            x_pred[0, t, char_indices[char]] = 1\n",
    "        preds = model.predict(x_pred, verbose=0)[0]\n",
    "       \n",
    "        next_index = sample(preds, temperature)\n",
    "        next_char = indices_char[next_index]\n",
    "        seed = seed[1:] + next_char\n",
    "        generated += next_char\n",
    "       \n",
    "        if next_char == \";\":\n",
    "            generated += \"\\n----------------------------------------\\n\"\n",
    "           \n",
    "    print(generated) \n",
    "\n"
   ]
  },
  {
   "cell_type": "code",
   "execution_count": null,
   "id": "93fe7191-aaf2-44f9-93c1-3c2b026226d8",
   "metadata": {},
   "outputs": [],
   "source": [
    "model.save('myModelTuner.h5')"
   ]
  },
  {
   "cell_type": "code",
   "execution_count": null,
   "id": "2343e975-ba2e-4874-a953-1ec4242fd5ae",
   "metadata": {},
   "outputs": [],
   "source": [
    "model = keras.models.load_model('myModelTuner.h5')"
   ]
  },
  {
   "cell_type": "code",
   "execution_count": null,
   "id": "7ced3c2d",
   "metadata": {
    "collapsed": false,
    "jupyter": {
     "outputs_hidden": false
    },
    "pycharm": {
     "name": "#%%\n"
    }
   },
   "outputs": [],
   "source": [
    "generate_chars = 200\n",
    "temperature = 0.001\n",
    "start_index = random.randint(0, len(text) - seq_len - 1)\n",
    "generated = \"\"\n",
    "\n",
    "seed =  text[start_index : start_index + seq_len]\n",
    "    \n",
    "print('...Generating with seed: \"' + seed + '\"')\n",
    "\n",
    "    \n",
    "for i in range(generate_chars):\n",
    "    x_pred = np.zeros((1, len(seed), vocab_size))\n",
    "    for t, char in enumerate(seed):\n",
    "        x_pred[0, t, char_indices[char]] = 1\n",
    "    preds = model.predict(x_pred, verbose=0)[0]\n",
    "        \n",
    "    next_index = sample(preds, temperature)\n",
    "    next_char = indices_char[next_index]\n",
    "    seed = seed[1:] + next_char\n",
    "    generated += next_char\n",
    "        \n",
    "    if next_char == \";\":\n",
    "            generated += \"\\n----------------------------------------\\n\"\n",
    "            \n",
    "print(generated) \n",
    "        \n",
    "\n"
   ]
  }
 ],
 "metadata": {
  "kernelspec": {
   "display_name": "Python 3 (ipykernel)",
   "language": "python",
   "name": "python3"
  },
  "language_info": {
   "codemirror_mode": {
    "name": "ipython",
    "version": 3
   },
   "file_extension": ".py",
   "mimetype": "text/x-python",
   "name": "python",
   "nbconvert_exporter": "python",
   "pygments_lexer": "ipython3",
   "version": "3.9.10"
  }
 },
 "nbformat": 4,
 "nbformat_minor": 5
}
