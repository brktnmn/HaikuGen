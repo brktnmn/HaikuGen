{
 "cells": [
  {
   "cell_type": "markdown",
   "id": "975fe116-7009-44b4-ba69-7c9773b51f7e",
   "metadata": {},
   "source": [
    "# Data Preperation & Cleaning"
   ]
  },
  {
   "cell_type": "markdown",
   "id": "9945f629-b0d9-4e5f-9963-c30a23e7bf2f",
   "metadata": {},
   "source": [
    "## Import modules"
   ]
  },
  {
   "cell_type": "code",
   "execution_count": 3,
   "id": "8290009a-4f20-4640-b58b-729dd5343f66",
   "metadata": {},
   "outputs": [],
   "source": [
    "import pandas as pd"
   ]
  },
  {
   "cell_type": "markdown",
   "id": "24376878-9235-45e2-b9a5-ca56439c0a35",
   "metadata": {},
   "source": [
    "## Read data from csv file"
   ]
  },
  {
   "cell_type": "code",
   "execution_count": 4,
   "id": "399c0c3a-4d6b-4bd4-bb9a-ebd39ced7873",
   "metadata": {},
   "outputs": [],
   "source": [
    "df = pd.read_csv(\"HaikuGen/data/haikus.csv\")"
   ]
  },
  {
   "cell_type": "markdown",
   "id": "8915674c-59dc-49eb-b344-cfa17629ae33",
   "metadata": {},
   "source": [
    "## Get only haikus with the syllable structure 5-7-5"
   ]
  },
  {
   "cell_type": "code",
   "execution_count": 5,
   "id": "54f8d8f8-87eb-43f9-b9fb-ee922ee9b67c",
   "metadata": {},
   "outputs": [],
   "source": [
    "df_575_only = df[(df['0_syllables'] == '5') & (df['1_syllables'] == '7') & (df['2_syllables'] == '5')]"
   ]
  },
  {
   "cell_type": "markdown",
   "id": "60d2815b-103a-4cb6-b390-5005299f7060",
   "metadata": {},
   "source": [
    "## Drop not needed columns"
   ]
  },
  {
   "cell_type": "code",
   "execution_count": 6,
   "id": "220e18dd-7e4e-4204-89dc-e27a5c84a209",
   "metadata": {},
   "outputs": [],
   "source": [
    "pd.options.mode.chained_assignment = None # supress warning\n",
    "df_575_only.drop(columns=[\"source\", '0_syllables', '1_syllables', '2_syllables'], inplace=True)"
   ]
  },
  {
   "cell_type": "markdown",
   "id": "9215b52f-fc0d-41ca-a400-000e93ec7bd8",
   "metadata": {},
   "source": [
    "## Make every value in columns to lowercase"
   ]
  },
  {
   "cell_type": "code",
   "execution_count": 7,
   "id": "a86da372-fdb9-45d3-9d3d-14f1f0524a32",
   "metadata": {},
   "outputs": [],
   "source": [
    "df_575_only = df_575_only.applymap(lambda s: s.lower() if type(s) == str else s)"
   ]
  },
  {
   "cell_type": "markdown",
   "id": "46b5eab2-6f09-4c49-9f89-a54e18c53e7a",
   "metadata": {},
   "source": [
    "## Remove '-' chars"
   ]
  },
  {
   "cell_type": "code",
   "execution_count": 9,
   "id": "f9c6eca7-a975-4e56-b267-54f68bc91ce1",
   "metadata": {},
   "outputs": [],
   "source": [
    "df_575_only = df_575_only.applymap(lambda s: s.replace('-\"~.:', \"\", ))"
   ]
  },
  {
   "cell_type": "markdown",
   "id": "1d69611e-0dc8-4e92-9575-81b475a3dfec",
   "metadata": {},
   "source": [
    "## Drop index and save to csv"
   ]
  },
  {
   "cell_type": "code",
   "execution_count": 10,
   "id": "0c5c1559-7701-4dd6-9341-846a75d10e9e",
   "metadata": {},
   "outputs": [],
   "source": [
    "df_575_only.to_csv('HaikuGen/data/out.csv', index=False)"
   ]
  }
 ],
 "metadata": {
  "kernelspec": {
   "display_name": "Python 3 (ipykernel)",
   "language": "python",
   "name": "python3"
  },
  "language_info": {
   "codemirror_mode": {
    "name": "ipython",
    "version": 3
   },
   "file_extension": ".py",
   "mimetype": "text/x-python",
   "name": "python",
   "nbconvert_exporter": "python",
   "pygments_lexer": "ipython3",
   "version": "3.9.10"
  }
 },
 "nbformat": 4,
 "nbformat_minor": 5
}
