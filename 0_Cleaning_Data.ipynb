{
 "cells": [
  {
   "cell_type": "markdown",
   "id": "975fe116-7009-44b4-ba69-7c9773b51f7e",
   "metadata": {},
   "source": [
    "# Data Preperation & Cleaning"
   ]
  },
  {
   "cell_type": "markdown",
   "id": "9945f629-b0d9-4e5f-9963-c30a23e7bf2f",
   "metadata": {},
   "source": [
    "## Import modules"
   ]
  },
  {
   "cell_type": "code",
   "execution_count": 2,
   "id": "8290009a-4f20-4640-b58b-729dd5343f66",
   "metadata": {},
   "outputs": [],
   "source": [
    "import pandas as pd"
   ]
  },
  {
   "cell_type": "markdown",
   "id": "24376878-9235-45e2-b9a5-ca56439c0a35",
   "metadata": {},
   "source": [
    "## Read data from csv file"
   ]
  },
  {
   "cell_type": "code",
   "execution_count": 3,
   "id": "523c5e61-fd75-4e45-8f5c-e3bfbf3ea02f",
   "metadata": {
    "tags": []
   },
   "outputs": [
    {
     "name": "stderr",
     "output_type": "stream",
     "text": [
      "/tmp/ipykernel_53/3583879330.py:1: ParserWarning: Falling back to the 'python' engine because the 'c' engine does not support regex separators (separators > 1 char and different from '\\s+' are interpreted as regex); you can avoid this warning by specifying engine='python'.\n",
      "  df_txt = pd.read_csv(\"data/data.tsv.txt\", sep=\"<br>\", header=None, names=['0', '1', '2'])\n"
     ]
    }
   ],
   "source": [
    "df_txt = pd.read_csv(\"data/data.tsv.txt\", sep=\"<br>\", header=None, names=['0', '1', '2'])"
   ]
  },
  {
   "cell_type": "code",
   "execution_count": 16,
   "id": "713dbab2-125e-4093-a8b1-2c7d7b720d5b",
   "metadata": {},
   "outputs": [
    {
     "data": {
      "text/html": [
       "<div>\n",
       "<style scoped>\n",
       "    .dataframe tbody tr th:only-of-type {\n",
       "        vertical-align: middle;\n",
       "    }\n",
       "\n",
       "    .dataframe tbody tr th {\n",
       "        vertical-align: top;\n",
       "    }\n",
       "\n",
       "    .dataframe thead th {\n",
       "        text-align: right;\n",
       "    }\n",
       "</style>\n",
       "<table border=\"1\" class=\"dataframe\">\n",
       "  <thead>\n",
       "    <tr style=\"text-align: right;\">\n",
       "      <th></th>\n",
       "      <th>0</th>\n",
       "      <th>1</th>\n",
       "      <th>2</th>\n",
       "    </tr>\n",
       "  </thead>\n",
       "  <tbody>\n",
       "    <tr>\n",
       "      <th>56337</th>\n",
       "      <td>When were they applied?</td>\n",
       "      <td>What cases motivated</td>\n",
       "      <td>their development?</td>\n",
       "    </tr>\n",
       "    <tr>\n",
       "      <th>270953</th>\n",
       "      <td>You're asking if not</td>\n",
       "      <td>leveling your combat skills makes</td>\n",
       "      <td>combat difficult?</td>\n",
       "    </tr>\n",
       "    <tr>\n",
       "      <th>173238</th>\n",
       "      <td>I'm so excited,</td>\n",
       "      <td>and nervous, and excited.</td>\n",
       "      <td>And also nervous.</td>\n",
       "    </tr>\n",
       "    <tr>\n",
       "      <th>310876</th>\n",
       "      <td>Nuke it from orbit.</td>\n",
       "      <td>Its the only way to be</td>\n",
       "      <td>sure ya killed 'em all!</td>\n",
       "    </tr>\n",
       "    <tr>\n",
       "      <th>187476</th>\n",
       "      <td>Forgetting these points</td>\n",
       "      <td>are almost definitely</td>\n",
       "      <td>why it was removed.</td>\n",
       "    </tr>\n",
       "  </tbody>\n",
       "</table>\n",
       "</div>"
      ],
      "text/plain": [
       "                              0                                   1  \\\n",
       "56337   When were they applied?                What cases motivated   \n",
       "270953     You're asking if not   leveling your combat skills makes   \n",
       "173238          I'm so excited,           and nervous, and excited.   \n",
       "310876      Nuke it from orbit.              Its the only way to be   \n",
       "187476  Forgetting these points               are almost definitely   \n",
       "\n",
       "                              2  \n",
       "56337        their development?  \n",
       "270953        combat difficult?  \n",
       "173238        And also nervous.  \n",
       "310876  sure ya killed 'em all!  \n",
       "187476      why it was removed.  "
      ]
     },
     "execution_count": 16,
     "metadata": {},
     "output_type": "execute_result"
    }
   ],
   "source": [
    "df_txt.sample(5)"
   ]
  },
  {
   "cell_type": "code",
   "execution_count": 7,
   "id": "399c0c3a-4d6b-4bd4-bb9a-ebd39ced7873",
   "metadata": {},
   "outputs": [],
   "source": [
    "df = pd.read_csv(\"data/haikus.csv\")"
   ]
  },
  {
   "cell_type": "code",
   "execution_count": 8,
   "id": "5d003e3f-e004-452f-8376-c3fc1c853df5",
   "metadata": {},
   "outputs": [
    {
     "data": {
      "text/html": [
       "<div>\n",
       "<style scoped>\n",
       "    .dataframe tbody tr th:only-of-type {\n",
       "        vertical-align: middle;\n",
       "    }\n",
       "\n",
       "    .dataframe tbody tr th {\n",
       "        vertical-align: top;\n",
       "    }\n",
       "\n",
       "    .dataframe thead th {\n",
       "        text-align: right;\n",
       "    }\n",
       "</style>\n",
       "<table border=\"1\" class=\"dataframe\">\n",
       "  <thead>\n",
       "    <tr style=\"text-align: right;\">\n",
       "      <th></th>\n",
       "      <th>0</th>\n",
       "      <th>1</th>\n",
       "      <th>2</th>\n",
       "      <th>source</th>\n",
       "      <th>0_syllables</th>\n",
       "      <th>1_syllables</th>\n",
       "      <th>2_syllables</th>\n",
       "    </tr>\n",
       "  </thead>\n",
       "  <tbody>\n",
       "    <tr>\n",
       "      <th>0</th>\n",
       "      <td>Memorial Day --</td>\n",
       "      <td>a shadow for each</td>\n",
       "      <td>white cross</td>\n",
       "      <td>tempslibres</td>\n",
       "      <td>5</td>\n",
       "      <td>5</td>\n",
       "      <td>2</td>\n",
       "    </tr>\n",
       "    <tr>\n",
       "      <th>1</th>\n",
       "      <td>spring rain -</td>\n",
       "      <td>as the doctor speaks</td>\n",
       "      <td>i think of lilacs</td>\n",
       "      <td>tempslibres</td>\n",
       "      <td>2,3</td>\n",
       "      <td>5</td>\n",
       "      <td>5</td>\n",
       "    </tr>\n",
       "    <tr>\n",
       "      <th>2</th>\n",
       "      <td>spring moonset --</td>\n",
       "      <td>a rice ball for</td>\n",
       "      <td>breakfast</td>\n",
       "      <td>tempslibres</td>\n",
       "      <td>3,4</td>\n",
       "      <td>4</td>\n",
       "      <td>2</td>\n",
       "    </tr>\n",
       "    <tr>\n",
       "      <th>3</th>\n",
       "      <td>sunny afternoon</td>\n",
       "      <td>an old man lingers</td>\n",
       "      <td>near the mailbox</td>\n",
       "      <td>tempslibres</td>\n",
       "      <td>5</td>\n",
       "      <td>5</td>\n",
       "      <td>4</td>\n",
       "    </tr>\n",
       "    <tr>\n",
       "      <th>4</th>\n",
       "      <td>cinco de mayo</td>\n",
       "      <td>horses roll</td>\n",
       "      <td>in the shallows</td>\n",
       "      <td>tempslibres</td>\n",
       "      <td>5</td>\n",
       "      <td>3</td>\n",
       "      <td>4</td>\n",
       "    </tr>\n",
       "  </tbody>\n",
       "</table>\n",
       "</div>"
      ],
      "text/plain": [
       "                   0                     1                  2       source  \\\n",
       "0    Memorial Day --     a shadow for each        white cross  tempslibres   \n",
       "1      spring rain -  as the doctor speaks  i think of lilacs  tempslibres   \n",
       "2  spring moonset --       a rice ball for          breakfast  tempslibres   \n",
       "3    sunny afternoon    an old man lingers   near the mailbox  tempslibres   \n",
       "4      cinco de mayo           horses roll    in the shallows  tempslibres   \n",
       "\n",
       "  0_syllables 1_syllables 2_syllables  \n",
       "0           5           5           2  \n",
       "1         2,3           5           5  \n",
       "2         3,4           4           2  \n",
       "3           5           5           4  \n",
       "4           5           3           4  "
      ]
     },
     "execution_count": 8,
     "metadata": {},
     "output_type": "execute_result"
    }
   ],
   "source": [
    "df.head()"
   ]
  },
  {
   "cell_type": "markdown",
   "id": "8915674c-59dc-49eb-b344-cfa17629ae33",
   "metadata": {},
   "source": [
    "## Get only haikus with the syllable structure 5-7-5"
   ]
  },
  {
   "cell_type": "code",
   "execution_count": 84,
   "id": "54f8d8f8-87eb-43f9-b9fb-ee922ee9b67c",
   "metadata": {},
   "outputs": [],
   "source": [
    "df_575_only = df[(df['0_syllables'] == '5') & (df['1_syllables'] == '7') & (df['2_syllables'] == '5')]"
   ]
  },
  {
   "cell_type": "markdown",
   "id": "60d2815b-103a-4cb6-b390-5005299f7060",
   "metadata": {},
   "source": [
    "## Drop not needed columns"
   ]
  },
  {
   "cell_type": "code",
   "execution_count": 85,
   "id": "220e18dd-7e4e-4204-89dc-e27a5c84a209",
   "metadata": {},
   "outputs": [],
   "source": [
    "pd.options.mode.chained_assignment = None # supress warning\n",
    "df_575_only.drop(columns=[\"source\", '0_syllables', '1_syllables', '2_syllables'], inplace=True)"
   ]
  },
  {
   "cell_type": "markdown",
   "id": "6aa271c2-c168-402e-b815-c5fbf52c6778",
   "metadata": {},
   "source": [
    "# Merge dfs"
   ]
  },
  {
   "cell_type": "code",
   "execution_count": 86,
   "id": "8c1ca5b0-1024-4ad2-a8be-cf14a4b758d7",
   "metadata": {
    "collapsed": true,
    "jupyter": {
     "outputs_hidden": true
    },
    "tags": []
   },
   "outputs": [
    {
     "name": "stderr",
     "output_type": "stream",
     "text": [
      "/tmp/ipykernel_49/193737362.py:1: FutureWarning: The frame.append method is deprecated and will be removed from pandas in a future version. Use pandas.concat instead.\n",
      "  df = df_575_only.append(df_txt)\n"
     ]
    }
   ],
   "source": [
    "df = df_575_only.append(df_txt)"
   ]
  },
  {
   "cell_type": "markdown",
   "id": "9215b52f-fc0d-41ca-a400-000e93ec7bd8",
   "metadata": {},
   "source": [
    "## Make every value in columns to lowercase"
   ]
  },
  {
   "cell_type": "code",
   "execution_count": 87,
   "id": "a86da372-fdb9-45d3-9d3d-14f1f0524a32",
   "metadata": {},
   "outputs": [],
   "source": [
    "df = df.applymap(lambda s: s.lower() if type(s) == str else s)"
   ]
  },
  {
   "cell_type": "markdown",
   "id": "46b5eab2-6f09-4c49-9f89-a54e18c53e7a",
   "metadata": {},
   "source": [
    "## Remove unnecessary chars"
   ]
  },
  {
   "cell_type": "code",
   "execution_count": 88,
   "id": "30cddb88-de5f-40f4-b30e-4737af90afbd",
   "metadata": {
    "collapsed": true,
    "jupyter": {
     "outputs_hidden": true
    },
    "tags": []
   },
   "outputs": [
    {
     "name": "stderr",
     "output_type": "stream",
     "text": [
      "/tmp/ipykernel_49/4292570156.py:1: FutureWarning: The default value of regex will change from True to False in a future version.\n",
      "  df['0'] = df['0'].str.replace('[^\\w\\s]', '')\n",
      "/tmp/ipykernel_49/4292570156.py:2: FutureWarning: The default value of regex will change from True to False in a future version.\n",
      "  df['1'] = df['1'].str.replace('[^\\w\\s]', '')\n",
      "/tmp/ipykernel_49/4292570156.py:3: FutureWarning: The default value of regex will change from True to False in a future version.\n",
      "  df['2'] = df['2'].str.replace('[^\\w\\s]', '')\n"
     ]
    }
   ],
   "source": [
    "df['0'] = df['0'].str.replace('[^\\w\\s]', '')\n",
    "df['1'] = df['1'].str.replace('[^\\w\\s]', '')\n",
    "df['2'] = df['2'].str.replace('[^\\w\\s]', '')"
   ]
  },
  {
   "cell_type": "code",
   "execution_count": 94,
   "id": "c0efbd23-7c66-4dc1-b648-b06c3e53dd27",
   "metadata": {},
   "outputs": [],
   "source": [
    "df = df[~df['0'].str.contains('_')]\n",
    "df = df[~df['1'].str.contains('_')]\n",
    "df = df[~df['2'].str.contains('_')]"
   ]
  },
  {
   "cell_type": "markdown",
   "id": "2148fac0-525e-4cea-abea-ac876a37d70f",
   "metadata": {},
   "source": [
    "# Remove rows with numbers"
   ]
  },
  {
   "cell_type": "code",
   "execution_count": 96,
   "id": "4ef21c54-0c05-4163-970c-b11c2879b6ce",
   "metadata": {},
   "outputs": [],
   "source": [
    "df = df[~df['0'].str.contains(r'\\d')]\n",
    "df = df[~df['1'].str.contains(r'\\d')]\n",
    "df = df[~df['2'].str.contains(r'\\d')]"
   ]
  },
  {
   "cell_type": "markdown",
   "id": "1d69611e-0dc8-4e92-9575-81b475a3dfec",
   "metadata": {},
   "source": [
    "## Drop index and save to csv"
   ]
  },
  {
   "cell_type": "code",
   "execution_count": 98,
   "id": "0c5c1559-7701-4dd6-9341-846a75d10e9e",
   "metadata": {},
   "outputs": [],
   "source": [
    "df.to_csv('data/out.csv', index=False)"
   ]
  },
  {
   "cell_type": "code",
   "execution_count": 95,
   "id": "5ec3b596-f3af-42ed-8845-f6366ba559ac",
   "metadata": {},
   "outputs": [
    {
     "data": {
      "text/plain": [
       "(438234, 3)"
      ]
     },
     "execution_count": 95,
     "metadata": {},
     "output_type": "execute_result"
    }
   ],
   "source": [
    "df.shape"
   ]
  }
 ],
 "metadata": {
  "kernelspec": {
   "display_name": "Python 3 (ipykernel)",
   "language": "python",
   "name": "python3"
  },
  "language_info": {
   "codemirror_mode": {
    "name": "ipython",
    "version": 3
   },
   "file_extension": ".py",
   "mimetype": "text/x-python",
   "name": "python",
   "nbconvert_exporter": "python",
   "pygments_lexer": "ipython3",
   "version": "3.9.10"
  }
 },
 "nbformat": 4,
 "nbformat_minor": 5
}
