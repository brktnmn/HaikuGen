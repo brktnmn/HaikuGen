{
 "cells": [
  {
   "cell_type": "markdown",
   "id": "975fe116-7009-44b4-ba69-7c9773b51f7e",
   "metadata": {},
   "source": [
    "# Data Preperation & Cleaning"
   ]
  },
  {
   "cell_type": "markdown",
   "id": "9945f629-b0d9-4e5f-9963-c30a23e7bf2f",
   "metadata": {},
   "source": [
    "## Import modules"
   ]
  },
  {
   "cell_type": "code",
   "execution_count": null,
   "id": "8290009a-4f20-4640-b58b-729dd5343f66",
   "metadata": {},
   "outputs": [],
   "source": [
    "import pandas as pd"
   ]
  },
  {
   "cell_type": "markdown",
   "id": "24376878-9235-45e2-b9a5-ca56439c0a35",
   "metadata": {},
   "source": [
    "## Read data from csv file"
   ]
  },
  {
   "cell_type": "code",
   "execution_count": null,
   "id": "399c0c3a-4d6b-4bd4-bb9a-ebd39ced7873",
   "metadata": {},
   "outputs": [],
   "source": [
    "df = pd.read_csv(\"HaikuGen/data/haikus.csv\")"
   ]
  },
  {
   "cell_type": "markdown",
   "id": "8915674c-59dc-49eb-b344-cfa17629ae33",
   "metadata": {},
   "source": [
    "## Get only haikus with the syllable structure 5-7-5"
   ]
  },
  {
   "cell_type": "code",
   "execution_count": null,
   "id": "54f8d8f8-87eb-43f9-b9fb-ee922ee9b67c",
   "metadata": {},
   "outputs": [],
   "source": [
    "df_575_only = df[(df['0_syllables'] == '5') & (df['1_syllables'] == '7') & (df['2_syllables'] == '5')]"
   ]
  },
  {
   "cell_type": "markdown",
   "id": "60d2815b-103a-4cb6-b390-5005299f7060",
   "metadata": {},
   "source": [
    "## Drop not needed columns"
   ]
  },
  {
   "cell_type": "code",
   "execution_count": null,
   "id": "220e18dd-7e4e-4204-89dc-e27a5c84a209",
   "metadata": {},
   "outputs": [],
   "source": [
    "pd.options.mode.chained_assignment = None # supress warning\n",
    "df_575_only.drop(columns=[\"source\", '0_syllables', '1_syllables', '2_syllables'], inplace=True)"
   ]
  },
  {
   "cell_type": "markdown",
   "id": "9215b52f-fc0d-41ca-a400-000e93ec7bd8",
   "metadata": {},
   "source": [
    "## Make every value in columns to lowercase"
   ]
  },
  {
   "cell_type": "code",
   "execution_count": null,
   "id": "a86da372-fdb9-45d3-9d3d-14f1f0524a32",
   "metadata": {},
   "outputs": [],
   "source": [
    "df_575_only = df_575_only.applymap(lambda s: s.lower() if type(s) == str else s)"
   ]
  },
  {
   "cell_type": "markdown",
   "id": "46b5eab2-6f09-4c49-9f89-a54e18c53e7a",
   "metadata": {},
   "source": [
    "## Remove unnecessary chars"
   ]
  },
  {
   "cell_type": "code",
   "execution_count": null,
   "id": "30cddb88-de5f-40f4-b30e-4737af90afbd",
   "metadata": {},
   "outputs": [
    {
     "name": "stderr",
     "output_type": "stream",
     "text": [
      "/tmp/ipykernel_73/1203225326.py:1: FutureWarning: The default value of regex will change from True to False in a future version.\n",
      "  df_575_only['0'] = df_575_only['0'].str.replace('[^\\w\\s]', '')\n",
      "/tmp/ipykernel_73/1203225326.py:2: FutureWarning: The default value of regex will change from True to False in a future version.\n",
      "  df_575_only['1'] = df_575_only['1'].str.replace('[^\\w\\s]', '')\n",
      "/tmp/ipykernel_73/1203225326.py:3: FutureWarning: The default value of regex will change from True to False in a future version.\n",
      "  df_575_only['2'] = df_575_only['2'].str.replace('[^\\w\\s]', '')\n"
     ]
    }
   ],
   "source": [
    "df_575_only['0'] = df_575_only['0'].str.replace('[^\\w\\s]', '')\n",
    "df_575_only['1'] = df_575_only['1'].str.replace('[^\\w\\s]', '')\n",
    "df_575_only['2'] = df_575_only['2'].str.replace('[^\\w\\s]', '')"
   ]
  },
  {
   "cell_type": "code",
   "execution_count": null,
   "id": "ac15a384-2a9f-473b-ad2e-46066d358580",
   "metadata": {},
   "outputs": [
    {
     "data": {
      "text/html": [
       "<div>\n",
       "<style scoped>\n",
       "    .dataframe tbody tr th:only-of-type {\n",
       "        vertical-align: middle;\n",
       "    }\n",
       "\n",
       "    .dataframe tbody tr th {\n",
       "        vertical-align: top;\n",
       "    }\n",
       "\n",
       "    .dataframe thead th {\n",
       "        text-align: right;\n",
       "    }\n",
       "</style>\n",
       "<table border=\"1\" class=\"dataframe\">\n",
       "  <thead>\n",
       "    <tr style=\"text-align: right;\">\n",
       "      <th></th>\n",
       "      <th>0</th>\n",
       "      <th>1</th>\n",
       "      <th>2</th>\n",
       "    </tr>\n",
       "  </thead>\n",
       "  <tbody>\n",
       "    <tr>\n",
       "      <th>34</th>\n",
       "      <td>last red in the sky</td>\n",
       "      <td>a small girls moon face rises</td>\n",
       "      <td>over the counter</td>\n",
       "    </tr>\n",
       "    <tr>\n",
       "      <th>200</th>\n",
       "      <td>christmas services</td>\n",
       "      <td>a cellular phone rings out</td>\n",
       "      <td>handels messiah</td>\n",
       "    </tr>\n",
       "    <tr>\n",
       "      <th>373</th>\n",
       "      <td>passover darkness</td>\n",
       "      <td>before the buds burst open</td>\n",
       "      <td>a childs eyes in death</td>\n",
       "    </tr>\n",
       "    <tr>\n",
       "      <th>430</th>\n",
       "      <td>last night of summer</td>\n",
       "      <td>the bright full moon of last night</td>\n",
       "      <td>hidden by a cloud</td>\n",
       "    </tr>\n",
       "    <tr>\n",
       "      <th>434</th>\n",
       "      <td>midnight and full moon</td>\n",
       "      <td>my neighbour asks to borrow</td>\n",
       "      <td>the vacum cleaner</td>\n",
       "    </tr>\n",
       "    <tr>\n",
       "      <th>...</th>\n",
       "      <td>...</td>\n",
       "      <td>...</td>\n",
       "      <td>...</td>\n",
       "    </tr>\n",
       "    <tr>\n",
       "      <th>143132</th>\n",
       "      <td>im not asking did</td>\n",
       "      <td>you say it nor clarify</td>\n",
       "      <td>what you said neither</td>\n",
       "    </tr>\n",
       "    <tr>\n",
       "      <th>143133</th>\n",
       "      <td>you are truly a</td>\n",
       "      <td>moron or a liar im</td>\n",
       "      <td>inclined to think both</td>\n",
       "    </tr>\n",
       "    <tr>\n",
       "      <th>143134</th>\n",
       "      <td>aint no selfie on</td>\n",
       "      <td>this earth thats gonna make me</td>\n",
       "      <td>like theresa may</td>\n",
       "    </tr>\n",
       "    <tr>\n",
       "      <th>143135</th>\n",
       "      <td>is doing a great</td>\n",
       "      <td>job turning independents</td>\n",
       "      <td>into democrats</td>\n",
       "    </tr>\n",
       "    <tr>\n",
       "      <th>143136</th>\n",
       "      <td>wanted to send a</td>\n",
       "      <td>quick follow up on if the</td>\n",
       "      <td>blood is loud talk soon</td>\n",
       "    </tr>\n",
       "  </tbody>\n",
       "</table>\n",
       "<p>93390 rows × 3 columns</p>\n",
       "</div>"
      ],
      "text/plain": [
       "                             0                                   1  \\\n",
       "34         last red in the sky       a small girls moon face rises   \n",
       "200         christmas services          a cellular phone rings out   \n",
       "373         passover darkness           before the buds burst open   \n",
       "430       last night of summer  the bright full moon of last night   \n",
       "434     midnight and full moon         my neighbour asks to borrow   \n",
       "...                        ...                                 ...   \n",
       "143132       im not asking did              you say it nor clarify   \n",
       "143133         you are truly a                  moron or a liar im   \n",
       "143134       aint no selfie on      this earth thats gonna make me   \n",
       "143135        is doing a great            job turning independents   \n",
       "143136        wanted to send a           quick follow up on if the   \n",
       "\n",
       "                              2  \n",
       "34             over the counter  \n",
       "200             handels messiah  \n",
       "373      a childs eyes in death  \n",
       "430           hidden by a cloud  \n",
       "434           the vacum cleaner  \n",
       "...                         ...  \n",
       "143132    what you said neither  \n",
       "143133   inclined to think both  \n",
       "143134         like theresa may  \n",
       "143135           into democrats  \n",
       "143136  blood is loud talk soon  \n",
       "\n",
       "[93390 rows x 3 columns]"
      ]
     },
     "execution_count": 119,
     "metadata": {},
     "output_type": "execute_result"
    }
   ],
   "source": [
    "df_575_only"
   ]
  },
  {
   "cell_type": "markdown",
   "id": "1d69611e-0dc8-4e92-9575-81b475a3dfec",
   "metadata": {},
   "source": [
    "## Drop index and save to csv"
   ]
  },
  {
   "cell_type": "code",
   "execution_count": null,
   "id": "0c5c1559-7701-4dd6-9341-846a75d10e9e",
   "metadata": {},
   "outputs": [],
   "source": [
    "df_575_only.to_csv('HaikuGen/data/out.csv', index=False)"
   ]
  }
 ],
 "metadata": {
  "kernelspec": {
   "display_name": "Python 3 (ipykernel)",
   "language": "python",
   "name": "python3"
  },
  "language_info": {
   "codemirror_mode": {
    "name": "ipython",
    "version": 3
   },
   "file_extension": ".py",
   "mimetype": "text/x-python",
   "name": "python",
   "nbconvert_exporter": "python",
   "pygments_lexer": "ipython3",
   "version": "3.9.10"
  }
 },
 "nbformat": 4,
 "nbformat_minor": 5
}
