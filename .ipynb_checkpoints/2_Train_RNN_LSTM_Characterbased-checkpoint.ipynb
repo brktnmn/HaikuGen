{
 "cells": [
  {
   "cell_type": "markdown",
   "id": "9cfb0df2-6691-42f0-a537-06a1ffbfd9a7",
   "metadata": {},
   "source": [
    "# Model training"
   ]
  },
  {
   "cell_type": "markdown",
   "id": "1bc7d1ec-28ab-4353-9de5-9d0102b0d061",
   "metadata": {},
   "source": [
    "## Import packages"
   ]
  },
  {
   "cell_type": "code",
   "execution_count": 1,
   "id": "203148e5-af60-4988-b678-bda538d6249b",
   "metadata": {},
   "outputs": [
    {
     "name": "stderr",
     "output_type": "stream",
     "text": [
      "2022-05-02 13:20:04.538929: W tensorflow/stream_executor/platform/default/dso_loader.cc:64] Could not load dynamic library 'libcudart.so.11.0'; dlerror: libcudart.so.11.0: cannot open shared object file: No such file or directory\n",
      "2022-05-02 13:20:04.538975: I tensorflow/stream_executor/cuda/cudart_stub.cc:29] Ignore above cudart dlerror if you do not have a GPU set up on your machine.\n"
     ]
    }
   ],
   "source": [
    "import tensorflow as tf\n",
    "import pandas as pd\n",
    "import os\n",
    "from tensorflow import keras\n",
    "from tensorflow.keras import layers\n",
    "import numpy as np\n",
    "import random\n",
    "import re\n",
    "import matplotlib.pyplot as plt\n",
    "\n"
   ]
  },
  {
   "cell_type": "code",
   "execution_count": 2,
   "id": "e4acdb5f-346c-45c3-afcb-b8af2ec10aab",
   "metadata": {},
   "outputs": [
    {
     "name": "stdout",
     "output_type": "stream",
     "text": [
      "Num GPUs Available:  0\n"
     ]
    },
    {
     "name": "stderr",
     "output_type": "stream",
     "text": [
      "2022-05-02 13:20:07.777162: W tensorflow/stream_executor/platform/default/dso_loader.cc:64] Could not load dynamic library 'libcuda.so.1'; dlerror: libcuda.so.1: cannot open shared object file: No such file or directory\n",
      "2022-05-02 13:20:07.777222: W tensorflow/stream_executor/cuda/cuda_driver.cc:269] failed call to cuInit: UNKNOWN ERROR (303)\n",
      "2022-05-02 13:20:07.777255: I tensorflow/stream_executor/cuda/cuda_diagnostics.cc:156] kernel driver does not appear to be running on this host (jupyter-acs277): /proc/driver/nvidia/version does not exist\n"
     ]
    }
   ],
   "source": [
    "print(\"Num GPUs Available: \", len(tf.config.experimental.list_physical_devices('GPU')))"
   ]
  },
  {
   "cell_type": "markdown",
   "id": "d0d02a6e-d7e4-49bb-85a8-db2d70189bb6",
   "metadata": {},
   "source": [
    "## Read data"
   ]
  },
  {
   "cell_type": "code",
   "execution_count": 3,
   "id": "0c39059e-77d5-42d6-bdce-766e49e9f5fa",
   "metadata": {},
   "outputs": [],
   "source": [
    "# Datensatz einlesen\n",
    "df = pd.read_csv('data/out.csv')"
   ]
  },
  {
   "cell_type": "markdown",
   "id": "7cbd8388-e4bc-4b0b-b6f2-c8ab37360f92",
   "metadata": {},
   "source": [
    "## Transform dataframe"
   ]
  },
  {
   "cell_type": "code",
   "execution_count": 4,
   "id": "f19816b9-d18a-4c52-bda3-7aef12cb0867",
   "metadata": {
    "tags": []
   },
   "outputs": [],
   "source": [
    "# Dataframe mit 3 Spalten. Werden so gejoint, dass ein neues Dataframe mit ein Haiku pro Zeile erstellt wird\n",
    "df = df[['0', '1', '2']].agg(lambda x: '\\n'.join(x.values), axis=1)\n",
    "# Dataframe to list [[]] -> []\n",
    "array_of_poems = df.values.tolist()"
   ]
  },
  {
   "cell_type": "code",
   "execution_count": 5,
   "id": "a2726013-e79e-4d25-b5da-a0fc4e2c45f1",
   "metadata": {},
   "outputs": [],
   "source": [
    "# num_poems an Haikus mit Semicolon zwshceneinander zusammenfuegen\n",
    "num_poems = 10000\n",
    "\n",
    "text = ';'.join(array_of_poems[:num_poems])"
   ]
  },
  {
   "cell_type": "markdown",
   "id": "c34535e9-892b-41b4-b2cb-a89c60fdfcfb",
   "metadata": {},
   "source": [
    "## Get unique chars in corpus"
   ]
  },
  {
   "cell_type": "code",
   "execution_count": 6,
   "id": "05d688c4-b56f-46fc-a88c-862b2ef63d77",
   "metadata": {},
   "outputs": [
    {
     "name": "stdout",
     "output_type": "stream",
     "text": [
      "29 unique chars\n",
      "['\\n', ' ', ';', 'a', 'b', 'c', 'd', 'e', 'f', 'g', 'h', 'i', 'j', 'k', 'l', 'm', 'n', 'o', 'p', 'q', 'r', 's', 't', 'u', 'v', 'w', 'x', 'y', 'z']\n"
     ]
    }
   ],
   "source": [
    "# Anzahl der unterschielichen characters im gesamt datensatz herausfinden\n",
    "vocab = sorted(set(text))\n",
    "vocab_size = len(vocab)\n",
    "print(f'{vocab_size} unique chars')\n",
    "print(vocab)"
   ]
  },
  {
   "cell_type": "markdown",
   "id": "0fc70bbf-d679-4605-9da5-a35f29f57a1b",
   "metadata": {
    "pycharm": {
     "name": "#%% md\n"
    }
   },
   "source": [
    "## Create training batches"
   ]
  },
  {
   "cell_type": "code",
   "execution_count": 7,
   "id": "29c70db9",
   "metadata": {
    "collapsed": false,
    "jupyter": {
     "outputs_hidden": false
    },
    "pycharm": {
     "name": "#%%\n"
    }
   },
   "outputs": [
    {
     "name": "stdout",
     "output_type": "stream",
     "text": [
      "Total chars: 29\n",
      "Number of sequences: 60009\n"
     ]
    }
   ],
   "source": [
    "print(\"Total chars:\", vocab_size)\n",
    "# Dictionary erstellen. Jeder character wird mit einer Zahl nummeriert\n",
    "char_indices = {c: i for i, c in enumerate(vocab)}\n",
    "indices_char = {i: c for i, c in enumerate(vocab)}\n",
    "\n",
    "# cut the text in semi-redundant sequences of seq_len characters\n",
    "seq_len = 100\n",
    "step = 11\n",
    "# Input String\n",
    "sequences = []\n",
    "#Output character\n",
    "next_chars = []\n",
    "for i in range(0, len(text) - seq_len, step):\n",
    "    sequences.append(text[i : i + seq_len])\n",
    "    next_chars.append(text[i + seq_len])\n",
    "print(\"Number of sequences:\", len(sequences))\n",
    "\n",
    "# Input String onehot encoded\n",
    "x = np.zeros((len(sequences), seq_len, vocab_size), dtype=int)\n",
    "# Output char onehot encoded\n",
    "y = np.zeros((len(sequences), vocab_size), dtype=int)\n",
    "for i, sequence in enumerate(sequences):\n",
    "    for t, char in enumerate(sequence):\n",
    "        x[i, t, char_indices[char]] = 1\n",
    "    y[i, char_indices[next_chars[i]]] = 1"
   ]
  },
  {
   "cell_type": "code",
   "execution_count": 8,
   "id": "3c82072d",
   "metadata": {
    "collapsed": false,
    "jupyter": {
     "outputs_hidden": false
    },
    "pycharm": {
     "name": "#%%\n"
    }
   },
   "outputs": [
    {
     "data": {
      "text/plain": [
       "100"
      ]
     },
     "execution_count": 8,
     "metadata": {},
     "output_type": "execute_result"
    }
   ],
   "source": [
    "x.shape[1]"
   ]
  },
  {
   "cell_type": "code",
   "execution_count": 9,
   "id": "b6cd1aa7",
   "metadata": {
    "collapsed": false,
    "jupyter": {
     "outputs_hidden": false
    },
    "pycharm": {
     "name": "#%%\n"
    }
   },
   "outputs": [
    {
     "data": {
      "text/plain": [
       "29"
      ]
     },
     "execution_count": 9,
     "metadata": {},
     "output_type": "execute_result"
    }
   ],
   "source": [
    "x.shape[2]"
   ]
  },
  {
   "cell_type": "code",
   "execution_count": 10,
   "id": "7e5b39dc",
   "metadata": {
    "collapsed": false,
    "jupyter": {
     "outputs_hidden": false
    },
    "pycharm": {
     "name": "#%%\n"
    }
   },
   "outputs": [
    {
     "name": "stderr",
     "output_type": "stream",
     "text": [
      "2022-05-02 13:20:15.270121: I tensorflow/core/platform/cpu_feature_guard.cc:151] This TensorFlow binary is optimized with oneAPI Deep Neural Network Library (oneDNN) to use the following CPU instructions in performance-critical operations:  AVX2 AVX512F FMA\n",
      "To enable them in other operations, rebuild TensorFlow with the appropriate compiler flags.\n"
     ]
    }
   ],
   "source": [
    "model = keras.Sequential(\n",
    "    [\n",
    "        # input_shape=sequenz laenge, vocab_size\n",
    "        # return sequences true -> input-shape = output-shape \n",
    "        # shape-input (NONE, seq_len, vocab_size)\n",
    "        layers.LSTM(128, input_shape=(x.shape[1], x.shape[2]), return_sequences=True),\n",
    "        layers.Dropout(0.2),\n",
    "        # shape-input (NONE, seq_len, vocab_size)\n",
    "        layers.LSTM(128, return_sequences=True),\n",
    "        layers.Dropout(0.2),\n",
    "        # shape-input (NONE, seq_len, vocab_size)\n",
    "        layers.LSTM(64),\n",
    "        # shape-input (NONE, vocab_size)\n",
    "        layers.Dense(vocab_size, activation=\"softmax\"),\n",
    "        # bsp out [0.3, 0.2, 0.1, 0.4]\n",
    "    ]\n",
    ")\n",
    "\n",
    "optimizer = keras.optimizers.Adam(learning_rate=0.01)\n",
    "model.compile(loss=\"categorical_crossentropy\", optimizer=optimizer)"
   ]
  },
  {
   "cell_type": "code",
   "execution_count": 11,
   "id": "60703971",
   "metadata": {
    "collapsed": false,
    "jupyter": {
     "outputs_hidden": false
    },
    "pycharm": {
     "name": "#%%\n"
    }
   },
   "outputs": [
    {
     "name": "stdout",
     "output_type": "stream",
     "text": [
      "Model: \"sequential\"\n",
      "_________________________________________________________________\n",
      " Layer (type)                Output Shape              Param #   \n",
      "=================================================================\n",
      " lstm (LSTM)                 (None, 100, 128)          80896     \n",
      "                                                                 \n",
      " dropout (Dropout)           (None, 100, 128)          0         \n",
      "                                                                 \n",
      " lstm_1 (LSTM)               (None, 100, 128)          131584    \n",
      "                                                                 \n",
      " dropout_1 (Dropout)         (None, 100, 128)          0         \n",
      "                                                                 \n",
      " lstm_2 (LSTM)               (None, 64)                49408     \n",
      "                                                                 \n",
      " dense (Dense)               (None, 29)                1885      \n",
      "                                                                 \n",
      "=================================================================\n",
      "Total params: 263,773\n",
      "Trainable params: 263,773\n",
      "Non-trainable params: 0\n",
      "_________________________________________________________________\n"
     ]
    }
   ],
   "source": [
    "model.summary()"
   ]
  },
  {
   "cell_type": "code",
   "execution_count": 12,
   "id": "4323d5ed",
   "metadata": {
    "collapsed": false,
    "jupyter": {
     "outputs_hidden": false
    },
    "pycharm": {
     "name": "#%%\n"
    }
   },
   "outputs": [],
   "source": [
    "# Standartfunktion Probability array to onehot to integerencoded char \n",
    "# [0.3, 0.2, 0.1, 0.4] -> [0, 0, 0, 1] -> return 4 (stelle, an der 1)\n",
    "def sample(prob, temperature=1.0):\n",
    "    # helper function to sample an index from a probability array\n",
    "    prob = np.asarray(prob).astype(\"float64\")\n",
    "    prob = np.log(prob) / temperature\n",
    "    exp_prob = np.exp(prob)\n",
    "    prob = exp_prob / np.sum(exp_prob)\n",
    "    probas = np.random.multinomial(1, prob)\n",
    "    return np.argmax(probas)"
   ]
  },
  {
   "cell_type": "code",
   "execution_count": null,
   "id": "0a1e8557",
   "metadata": {
    "collapsed": false,
    "jupyter": {
     "outputs_hidden": false
    },
    "pycharm": {
     "name": "#%%\n"
    }
   },
   "outputs": [
    {
     "name": "stdout",
     "output_type": "stream",
     "text": [
      "  9/118 [=>............................] - ETA: 6:34 - loss: 3.0818"
     ]
    }
   ],
   "source": [
    "epochs = 5\n",
    "batch_size = 512\n",
    "\n",
    "input_data = x\n",
    "output_data = y\n",
    "\n",
    "\n",
    "for epoch in range(epochs):\n",
    "    model.fit(input_data, output_data, batch_size=batch_size, epochs=1)\n",
    "\n",
    "    print()\n",
    "\n",
    "    generate_chars = 200\n",
    "    temperature = 1.0\n",
    "    start_index = random.randint(0, len(text) - seq_len - 1)\n",
    "    generated = \"\"\n",
    "\n",
    "    seed =  text[start_index : start_index + seq_len]\n",
    "    \n",
    "    print('...Generating with seed: \"' + seed + '\"')\n",
    "\n",
    "    \n",
    "    for i in range(generate_chars):\n",
    "        x_pred = np.zeros((1, len(seed), len(chars)))\n",
    "        for t, char in enumerate(seed):\n",
    "            x_pred[0, t, char_indices[char]] = 1\n",
    "        preds = model.predict(x_pred, verbose=0)[0]\n",
    "        \n",
    "        next_index = sample(preds, temperature)\n",
    "        next_char = indices_char[next_index]\n",
    "        seed = seed[1:] + next_char\n",
    "        generated += next_char\n",
    "        \n",
    "        print(next_char, end=\"\")\n",
    "        if next_char == \";\":\n",
    "            print()\n",
    "            print()\n",
    "\n"
   ]
  },
  {
   "cell_type": "code",
   "execution_count": null,
   "id": "93fe7191-aaf2-44f9-93c1-3c2b026226d8",
   "metadata": {},
   "outputs": [],
   "source": [
    "model.save('myModel.h5')"
   ]
  },
  {
   "cell_type": "code",
   "execution_count": null,
   "id": "2343e975-ba2e-4874-a953-1ec4242fd5ae",
   "metadata": {},
   "outputs": [],
   "source": [
    "model = keras.models.load_model('myModel.h5')"
   ]
  },
  {
   "cell_type": "code",
   "execution_count": null,
   "id": "7ced3c2d",
   "metadata": {
    "collapsed": false,
    "jupyter": {
     "outputs_hidden": false
    },
    "pycharm": {
     "name": "#%%\n"
    }
   },
   "outputs": [],
   "source": [
    "\n",
    "generate_chars = 400\n",
    "    temperature = 1.0\n",
    "    start_index = random.randint(0, len(text) - seq_len - 1)\n",
    "    generated = \"\"\n",
    "\n",
    "    seed =  text[start_index : start_index + seq_len]\n",
    "    \n",
    "    print('...Generating with seed: \"' + seed + '\"')\n",
    "\n",
    "    \n",
    "    for i in range(generate_chars):\n",
    "        x_pred = np.zeros((1, len(seed), len(chars)))\n",
    "        for t, char in enumerate(seed):\n",
    "            x_pred[0, t, char_indices[char]] = 1\n",
    "        preds = model.predict(x_pred, verbose=0)[0]\n",
    "        \n",
    "        next_index = sample(preds, temperature)\n",
    "        next_char = indices_char[next_index]\n",
    "        seed = seed[1:] + next_char\n",
    "        generated += next_char\n",
    "        \n",
    "        print(next_char, end=\"\")\n",
    "        if next_char == \";\":\n",
    "            print()\n",
    "            print()\n",
    "        \n",
    "\n"
   ]
  },
  {
   "cell_type": "code",
   "execution_count": null,
   "id": "07bfe2ba",
   "metadata": {
    "collapsed": false,
    "jupyter": {
     "outputs_hidden": false
    },
    "pycharm": {
     "name": "#%%\n"
    }
   },
   "outputs": [],
   "source": []
  },
  {
   "cell_type": "code",
   "execution_count": null,
   "id": "abf5075b-d863-43d8-bf7f-a40c2d9306c6",
   "metadata": {},
   "outputs": [],
   "source": []
  }
 ],
 "metadata": {
  "kernelspec": {
   "display_name": "Python 3 (ipykernel)",
   "language": "python",
   "name": "python3"
  },
  "language_info": {
   "codemirror_mode": {
    "name": "ipython",
    "version": 3
   },
   "file_extension": ".py",
   "mimetype": "text/x-python",
   "name": "python",
   "nbconvert_exporter": "python",
   "pygments_lexer": "ipython3",
   "version": "3.9.10"
  }
 },
 "nbformat": 4,
 "nbformat_minor": 5
}
